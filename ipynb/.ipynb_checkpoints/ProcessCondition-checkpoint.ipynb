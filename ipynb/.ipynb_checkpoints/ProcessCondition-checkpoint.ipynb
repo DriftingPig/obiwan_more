{
 "cells": [
  {
   "cell_type": "code",
   "execution_count": 1,
   "metadata": {},
   "outputs": [],
   "source": [
    "fn_FB='/global/cscratch1/sd/huikong/obiwan_Aug/repos_for_docker/obiwan_out/elg_one_bri/parallel_run/brick_run_scheduler/FailedBricks.txt'\n",
    "fn_PB='/global/cscratch1/sd/huikong/obiwan_Aug/repos_for_docker/obiwan_out/elg_one_bri/parallel_run/brick_run_scheduler/ProcessedBricks.txt'\n",
    "fn_UFB='/global/cscratch1/sd/huikong/obiwan_Aug/repos_for_docker/obiwan_out/elg_one_bri/parallel_run/brick_run_scheduler/UnfinishedBricks.txt'"
   ]
  },
  {
   "cell_type": "code",
   "execution_count": 2,
   "metadata": {},
   "outputs": [],
   "source": [
    "import numpy as np\n",
    "FB = np.loadtxt(fn_FB,dtype=np.str).transpose()[0]\n",
    "PB = np.loadtxt(fn_PB,dtype=np.str).transpose()\n",
    "UFB = np.loadtxt(fn_UFB,dtype=np.str).transpose()"
   ]
  },
  {
   "cell_type": "code",
   "execution_count": 3,
   "metadata": {},
   "outputs": [],
   "source": [
    "import astropy.io.fits as fits\n",
    "topdir_surveybricks = '/global/cscratch1/sd/huikong/obiwan_Aug/repos_for_docker/obiwan_out/eboss_elg/survey_bricks/'\n",
    "surveybricks = fits.open(topdir_surveybricks+'survey_bricks_eBoss.fits')[1].data"
   ]
  },
  {
   "cell_type": "code",
   "execution_count": 4,
   "metadata": {},
   "outputs": [],
   "source": [
    "def brick_selection(type_brick):\n",
    "    bricklist = []\n",
    "    for brickname in type_brick:\n",
    "        SEL = (surveybricks['BRICKNAME']==brickname)\n",
    "        bricklist.append([surveybricks[SEL]['RA'][0],surveybricks[SEL]['DEC'][0]])\n",
    "    return bricklist"
   ]
  },
  {
   "cell_type": "code",
   "execution_count": 5,
   "metadata": {},
   "outputs": [],
   "source": [
    "UFB_list = np.array(brick_selection(UFB)).transpose()\n",
    "PB_list = np.array(brick_selection(PB)).transpose()\n",
    "FB_list = np.array(brick_selection(FB)).transpose()"
   ]
  },
  {
   "cell_type": "code",
   "execution_count": null,
   "metadata": {},
   "outputs": [],
   "source": [
    "%matplotlib inline\n",
    "import matplotlib.pyplot as plt\n",
    "plt.plot(UFB_list[0],UFB_list[1],'r,',label = 'Unfinished')\n",
    "plt.plot(PB_list[0],PB_list[1],'b,', label = 'Finished')\n",
    "plt.plot(FB_list[0],FB_list[1],'g,',label = 'Bigblobs')\n",
    "plt.xlabel('ra')\n",
    "plt.ylabel('dec')\n",
    "plt.legend()\n",
    "plt.gca().set_xlim((0,55))"
   ]
  },
  {
   "cell_type": "code",
   "execution_count": 8,
   "metadata": {},
   "outputs": [
    {
     "data": {
      "text/plain": [
       "<Figure size 432x288 with 0 Axes>"
      ]
     },
     "metadata": {},
     "output_type": "display_data"
    }
   ],
   "source": [
    "todir_randombricks = '/global/cscratch1/sd/huikong/obiwan_Aug/repos_for_docker/obiwan_out/eboss_elg/sgc_brick_dat/'\n",
    "plt.clf()\n",
    "def random_brick_selection(type_brick,ctype, labeln):\n",
    "    lable_flag = True\n",
    "    for brickname in type_brick:\n",
    "        hdu = fits.open(todir_randombricks+'brick_'+str(brickname)+'.fits')\n",
    "        dat = hdu[1].data\n",
    "        hdu.close()\n",
    "        if lable_flag:\n",
    "            plt.plot(dat['ra'],dat['dec'], ctype, label=labeln)\n",
    "            lable_flag = False\n",
    "        else:\n",
    "            plt.plot(dat['ra'],dat['dec'], ctype)"
   ]
  },
  {
   "cell_type": "code",
   "execution_count": 9,
   "metadata": {},
   "outputs": [
    {
     "ename": "error",
     "evalue": "[Errno 24] Too many open files",
     "output_type": "error",
     "traceback": [
      "\u001b[0;31m\u001b[0m",
      "\u001b[0;31merror\u001b[0mTraceback (most recent call last)",
      "\u001b[0;32m<ipython-input-9-1aafad0af8b6>\u001b[0m in \u001b[0;36m<module>\u001b[0;34m()\u001b[0m\n\u001b[1;32m      2\u001b[0m \u001b[0mrandom_brick_selection\u001b[0m\u001b[0;34m(\u001b[0m\u001b[0mPB\u001b[0m\u001b[0;34m,\u001b[0m \u001b[0;34m'r,'\u001b[0m\u001b[0;34m,\u001b[0m \u001b[0;34m'Finished'\u001b[0m\u001b[0;34m)\u001b[0m\u001b[0;34m\u001b[0m\u001b[0m\n\u001b[1;32m      3\u001b[0m \u001b[0mrandom_brick_selection\u001b[0m\u001b[0;34m(\u001b[0m\u001b[0mUFB\u001b[0m\u001b[0;34m,\u001b[0m \u001b[0;34m'b,'\u001b[0m\u001b[0;34m,\u001b[0m \u001b[0;34m'UnFinished'\u001b[0m\u001b[0;34m)\u001b[0m\u001b[0;34m\u001b[0m\u001b[0m\n\u001b[0;32m----> 4\u001b[0;31m \u001b[0mrandom_brick_selection\u001b[0m\u001b[0;34m(\u001b[0m\u001b[0mFB\u001b[0m\u001b[0;34m,\u001b[0m \u001b[0;34m'g,'\u001b[0m\u001b[0;34m,\u001b[0m \u001b[0;34m'Bigblobs'\u001b[0m\u001b[0;34m)\u001b[0m\u001b[0;34m\u001b[0m\u001b[0m\n\u001b[0m\u001b[1;32m      5\u001b[0m \u001b[0mplt\u001b[0m\u001b[0;34m.\u001b[0m\u001b[0mlegend\u001b[0m\u001b[0;34m(\u001b[0m\u001b[0;34m)\u001b[0m\u001b[0;34m\u001b[0m\u001b[0m\n",
      "\u001b[0;32m<ipython-input-8-6a37ca26ac4d>\u001b[0m in \u001b[0;36mrandom_brick_selection\u001b[0;34m(type_brick, ctype, labeln)\u001b[0m\n\u001b[1;32m      5\u001b[0m     \u001b[0;32mfor\u001b[0m \u001b[0mbrickname\u001b[0m \u001b[0;32min\u001b[0m \u001b[0mtype_brick\u001b[0m\u001b[0;34m:\u001b[0m\u001b[0;34m\u001b[0m\u001b[0m\n\u001b[1;32m      6\u001b[0m         \u001b[0mhdu\u001b[0m \u001b[0;34m=\u001b[0m \u001b[0mfits\u001b[0m\u001b[0;34m.\u001b[0m\u001b[0mopen\u001b[0m\u001b[0;34m(\u001b[0m\u001b[0mtodir_randombricks\u001b[0m\u001b[0;34m+\u001b[0m\u001b[0;34m'brick_'\u001b[0m\u001b[0;34m+\u001b[0m\u001b[0mstr\u001b[0m\u001b[0;34m(\u001b[0m\u001b[0mbrickname\u001b[0m\u001b[0;34m)\u001b[0m\u001b[0;34m+\u001b[0m\u001b[0;34m'.fits'\u001b[0m\u001b[0;34m)\u001b[0m\u001b[0;34m\u001b[0m\u001b[0m\n\u001b[0;32m----> 7\u001b[0;31m         \u001b[0mdat\u001b[0m \u001b[0;34m=\u001b[0m \u001b[0mhdu\u001b[0m\u001b[0;34m[\u001b[0m\u001b[0;36m1\u001b[0m\u001b[0;34m]\u001b[0m\u001b[0;34m.\u001b[0m\u001b[0mdata\u001b[0m\u001b[0;34m\u001b[0m\u001b[0m\n\u001b[0m\u001b[1;32m      8\u001b[0m         \u001b[0mhdu\u001b[0m\u001b[0;34m.\u001b[0m\u001b[0mclose\u001b[0m\u001b[0;34m(\u001b[0m\u001b[0;34m)\u001b[0m\u001b[0;34m\u001b[0m\u001b[0m\n\u001b[1;32m      9\u001b[0m         \u001b[0;32mif\u001b[0m \u001b[0mlable_flag\u001b[0m\u001b[0;34m:\u001b[0m\u001b[0;34m\u001b[0m\u001b[0m\n",
      "\u001b[0;32m/global/homes/h/huikong/.conda/envs/mangle_env/lib/python2.7/site-packages/astropy/utils/decorators.pyc\u001b[0m in \u001b[0;36m__get__\u001b[0;34m(self, obj, owner)\u001b[0m\n",
      "\u001b[0;32m/global/homes/h/huikong/.conda/envs/mangle_env/lib/python2.7/site-packages/astropy/io/fits/hdu/table.pyc\u001b[0m in \u001b[0;36mdata\u001b[0;34m(self)\u001b[0m\n",
      "\u001b[0;32m/global/homes/h/huikong/.conda/envs/mangle_env/lib/python2.7/site-packages/astropy/io/fits/hdu/table.pyc\u001b[0m in \u001b[0;36m_get_tbdata\u001b[0;34m(self)\u001b[0m\n",
      "\u001b[0;32m/global/homes/h/huikong/.conda/envs/mangle_env/lib/python2.7/site-packages/astropy/io/fits/hdu/base.pyc\u001b[0m in \u001b[0;36m_get_raw_data\u001b[0;34m(self, shape, code, offset)\u001b[0m\n",
      "\u001b[0;32m/global/homes/h/huikong/.conda/envs/mangle_env/lib/python2.7/site-packages/astropy/io/fits/file.pyc\u001b[0m in \u001b[0;36mreadarray\u001b[0;34m(self, size, offset, dtype, shape)\u001b[0m\n",
      "\u001b[0;32m/global/homes/h/huikong/.conda/envs/mangle_env/lib/python2.7/site-packages/numpy/core/memmap.pyc\u001b[0m in \u001b[0;36m__new__\u001b[0;34m(subtype, filename, dtype, mode, offset, shape, order)\u001b[0m\n",
      "\u001b[0;31merror\u001b[0m: [Errno 24] Too many open files"
     ]
    },
    {
     "data": {
      "image/png": "[encoded data removed]",
      "text/plain": [
       "<Figure size 432x288 with 1 Axes>"
      ]
     },
     "metadata": {},
     "output_type": "display_data"
    }
   ],
   "source": [
    "plt.clf()\n",
    "random_brick_selection(PB, 'r,', 'Finished')\n",
    "random_brick_selection(UFB, 'b,', 'UnFinished')\n",
    "random_brick_selection(FB, 'g,', 'Bigblobs')\n",
    "plt.legend()"
   ]
  },
  {
   "cell_type": "code",
   "execution_count": 10,
   "metadata": {},
   "outputs": [],
   "source": [
    "hdu = fits.open(todir_randombricks+'brick_'+str(PB[0])+'.fits')[1].data"
   ]
  },
  {
   "cell_type": "code",
   "execution_count": 13,
   "metadata": {},
   "outputs": [
    {
     "data": {
      "text/plain": [
       "array([ 4190952,  4191992,  4207379,  4226220,  4243655,  4244898,\n",
       "        4272916,  4276848,  4279664,  4337926,  4338556,  4339084,\n",
       "        4339279,  4347712,  4349513,  4352976,  4359916,  4364062,\n",
       "        4370127,  4371546,  4372197,  4376416,  4377096,  4382854,\n",
       "        4393576,  4396105,  4400038,  4400879,  4402873,  4405623,\n",
       "        4410842,  4430575,  4441964,  4445424,  4445458,  4449299,\n",
       "        4472090,  4473744,  4474410,  4477389,  4479590,  4487234,\n",
       "        4497141,  4499358,  4505939,  4510632,  4511227,  4513384,\n",
       "        4513553,  4514972,  4534074,  4543227,  4549996,  4556419,\n",
       "        4558120,  4561339,  4577474,  4581755,  4581875,  4583707,\n",
       "        4595129,  4598625,  4600813,  4600969,  4611798,  4618783,\n",
       "        4627748,  4627811,  4651126,  4666231,  4670030,  4673612,\n",
       "        4687861,  4698012,  4702900,  4708059,  4716366,  4720944,\n",
       "        4729828,  4738606,  4739379,  4739966,  4743961,  4760734,\n",
       "        4768999,  4781903,  4786334,  4787691,  4817606,  4818899,\n",
       "        4819206,  4819883,  4822249,  4838495,  4839218,  4845354,\n",
       "        4850385,  4854193,  4888147,  4894990,  4899054,  4924041,\n",
       "        4935009,  4947236,  4960199,  4962961,  4968549,  4972207,\n",
       "        4973076,  4993622,  4998243,  5002048,  5019280,  5028121,\n",
       "        5030477,  5049979,  5056892,  5070304,  5074833,  5089751,\n",
       "        5094578,  5106641,  5108695,  5112418,  5121008,  5122382,\n",
       "        5142743,  5144909,  5149128,  5150704,  5159349,  5163240,\n",
       "        5165983,  5166829,  5167056,  5170546,  5171276,  5174239,\n",
       "        5175432,  5184244,  5189695,  5190411,  5211017,  5226368,\n",
       "        5231380,  5232307,  5233639,  5245947,  5262300,  5266195,\n",
       "        5271269,  5274134,  5278390,  5283307,  5290207,  5290385,\n",
       "        5293011,  5299429,  5313752,  5316606,  5320868,  5323840,\n",
       "        5337979,  5338455,  5347833,  5357057,  5370066,  5380059,\n",
       "        5389037,  5389447,  5394810,  5411610,  5416370,  5428013,\n",
       "        5436987,  5444863,  5446271,  5450579,  5453207,  5453773,\n",
       "        5455457,  5461259,  5463321,  5463496,  5483606,  5499857,\n",
       "        5501387,  5501523,  5511053,  5525562,  5528922,  5534858,\n",
       "        5558981,  5561491,  5583203,  5585053,  5605780,  5606965,\n",
       "        5608941,  5617978,  5628822,  5629372,  5631312,  5640663,\n",
       "        5648849,  5662184,  5664783,  5666234,  5672975,  5673592,\n",
       "        5675571,  5679863,  5691675,  5704941,  5705265,  5708381,\n",
       "        5720275,  5722256,  5722585,  5729200,  5737916,  5739115,\n",
       "        5749792,  5750382,  5752554,  5762801,  5763641,  5763702,\n",
       "        5765331,  5786711,  5794187,  5802698,  5811864,  5848188,\n",
       "        5848931,  5871695,  5873375,  5875820,  5883773,  5892123,\n",
       "        5917670,  5917682,  5931873,  5935969,  5939331,  5940163,\n",
       "        5964014,  5964995,  5971778,  5975569,  5983119,  5987440,\n",
       "        5989039,  5989739,  5994463,  6000195,  6005664,  6007459,\n",
       "        6007608,  6011270,  6013120,  6035326,  6043987,  6056553,\n",
       "        6064164,  6066584,  6067361,  6070972,  6072049,  6081900,\n",
       "        6086466,  6091788,  6092152,  6092734,  6097179,  6107745,\n",
       "        6108493,  6111181,  6126856,  6133494,  6142099,  6142438,\n",
       "        6144134,  6153119,  6154881,  6163374,  6172986,  6175287,\n",
       "        6188121,  6192977,  6201904,  6215620,  6220216,  6220518,\n",
       "        6220860,  6227168,  6232706,  6232906,  6262588,  6268308,\n",
       "        6289919,  6302517,  6305280,  6313654,  6315520,  6325060,\n",
       "        6325990,  6339376,  6340481,  6385537,  6387307,  6391513,\n",
       "        6412919,  6442743,  6443048,  6449920,  6475895,  6486355,\n",
       "        6502482,  6502588,  6506315,  6523691,  6552664,  6552956,\n",
       "        6555431,  6557052,  6575175,  6579698,  6580193,  6585978,\n",
       "        6597947,  6609399,  6619794,  6622486,  6636397,  6637607,\n",
       "        6645059,  6667216,  6671257,  6683029,  6688312,  6697823,\n",
       "        6712087,  6733535,  6736640,  6742592,  6748377,  6761968,\n",
       "        6782032,  6803447,  6805505,  6805909,  6806671,  6810847,\n",
       "        6831463,  6839813,  6865470,  6873337,  6883187,  6888487,\n",
       "        6901625,  6929860,  6945496,  6957646,  6975508,  6983795,\n",
       "        6991474,  7006562,  7006739,  7010403,  7021316,  7026183,\n",
       "        7034441,  7037299,  7039387,  7040121,  7045151,  7051781,\n",
       "        7061006,  7069944,  7087746,  7106056,  7112956,  7125256,\n",
       "        7138131,  7138733,  7141573,  7150797,  7161493,  7166141,\n",
       "        7172538,  7177336,  7189435,  7194644,  7196140,  7211497,\n",
       "        7233850,  7236914,  7245200,  7253087,  7257718,  7267436,\n",
       "        7267552,  7271950,  7274181,  7276970,  7282669,  7297381,\n",
       "        7312327,  7312823,  7317799,  7327352,  7374231,  7377228,\n",
       "        7377374,  7379163,  7384535,  7386046,  7397750,  7406688,\n",
       "        7409495,  7410772,  7413104,  7415690,  7421367,  7425361,\n",
       "        7427468,  7443439,  7445477,  7446847,  7456573,  7458510,\n",
       "        7469254,  7473434,  7479878,  7491329,  7513791,  7515418,\n",
       "        7518229,  7523116,  7527272,  7528137,  7530324,  7537177,\n",
       "        7537517,  7556173,  7566727,  7587729,  7594465,  7596002,\n",
       "        7599894,  7613724,  7617106,  7626853,  7632756,  7637115,\n",
       "        7639987,  7653572,  7655811,  7661133,  7666665,  7671902,\n",
       "        7676385,  7682188,  7683272,  7684943,  7694522,  7710752,\n",
       "        7711125,  7717171,  7721740,  7721897,  7722349,  7730461,\n",
       "        7741121,  7742986,  7751395,  7759967,  7766076,  7768908,\n",
       "        7780248,  7780397,  7781588,  7781831,  7784063,  7790276,\n",
       "        7792917,  7814678,  7826604,  7844143,  7858987,  7867152,\n",
       "        7868209,  7872757,  7873325,  7876249,  7899300,  7902811,\n",
       "        7905385,  7921890,  7932539,  7956745,  7958340,  7975494,\n",
       "        7983294,  7988368,  7989631,  7999621,  8003168,  8009007,\n",
       "        8019390,  8027979,  8052599,  8059680,  8062168,  8063194,\n",
       "        8069218,  8070162,  8082310,  8094603,  8098222,  8123432,\n",
       "        8124076,  8133116,  8134677,  8135577,  8136745,  8140484,\n",
       "        8147832,  8149379,  8159833,  8165556,  8183788,  8188397,\n",
       "        8190207,  8191871,  8198385,  8201639,  8207320,  8207620,\n",
       "        8208304,  8214084,  8219448,  8224164,  8232232,  8232780,\n",
       "        8257552,  8257795,  8284558,  8287195,  8289545,  8290878,\n",
       "        8293184,  8295617,  8295999,  8303428,  8309663,  8316067,\n",
       "        8318786,  8332216,  8356567,  8362794,  8363128,  8364159,\n",
       "        8366782,  8371204,  8371350,  8378446,  8379735,  8388875,\n",
       "        8392440,  8407967,  8427432,  8432714,  8433677,  8436585,\n",
       "        8436700,  8439471,  8442640,  8443602,  8455862,  8475286,\n",
       "        8480218,  8481102,  8499045,  8501479,  8504025,  8507644,\n",
       "        8515010,  8521729,  8522206,  8525198,  8527970,  8533367,\n",
       "        8554027,  8554086,  8569960,  8573828,  8579479,  8581953,\n",
       "        8591204,  8593376,  8597789,  8605221,  8616149,  8616720,\n",
       "        8629288,  8634561,  8640966,  8645976,  8647007,  8647431,\n",
       "        8663935,  8665920,  8669688,  8670966,  8674858,  8677657,\n",
       "        8689564,  8702668,  8702957,  8704086,  8708681,  8735174,\n",
       "        8756276,  8757577,  8759751,  8761534,  8766421,  8767877,\n",
       "        8780967,  8785078,  8792343,  8794742,  8795618,  8809023,\n",
       "        8811172,  8831137,  8835966,  8838884,  8840071,  8847558,\n",
       "        8853064,  8857050,  8871657,  8884235,  8896179,  8909192,\n",
       "        8927289,  8930202,  8943598,  8956199,  8963371,  8971118,\n",
       "        8971820,  8973103,  8983926,  8985273,  8985423,  8990128,\n",
       "        8999225,  9010655,  9013833,  9018210,  9020631,  9040027,\n",
       "        9042938,  9043693,  9045337,  9050295,  9052599,  9053114,\n",
       "        9057930,  9058430,  9072674,  9079028,  9089406,  9092892,\n",
       "        9099160,  9099442,  9100052,  9101713,  9107875,  9119060,\n",
       "        9130467,  9151419,  9165988,  9168065,  9168471,  9183775,\n",
       "        9188450,  9204355,  9209741,  9212436,  9223240,  9231657,\n",
       "        9234532,  9245187,  9262466,  9263039,  9263228,  9266704,\n",
       "        9269132,  9278318,  9287788,  9299121,  9306257,  9306846,\n",
       "        9354156,  9354270,  9358832,  9360550,  9363046,  9364331,\n",
       "        9364969,  9387241,  9397584,  9426911,  9431628,  9434739,\n",
       "        9442936,  9449880,  9454381,  9464774,  9473838,  9493032,\n",
       "        9497630,  9505518,  9518662,  9518884,  9524338,  9536123,\n",
       "        9545678,  9546120,  9550317,  9553813,  9565175,  9565297,\n",
       "        9569233,  9589825,  9592438,  9592985,  9593202,  9596147,\n",
       "        9607136,  9610787,  9614702,  9616177,  9618238,  9619693,\n",
       "        9619999,  9620195,  9625279,  9640743,  9646229,  9646586,\n",
       "        9657930,  9664139,  9665547,  9670059,  9686320,  9698608,\n",
       "        9700290,  9706456,  9714727,  9720253,  9729066,  9737146,\n",
       "        9740427,  9753666,  9756293,  9763778,  9771044,  9772247,\n",
       "        9782744,  9792238,  9796718,  9799718,  9814090,  9815865,\n",
       "        9817411,  9826925,  9842602,  9845118,  9847297,  9900306,\n",
       "        9902098,  9904411,  9905392,  9914694,  9918343,  9921302,\n",
       "        9940540,  9942308,  9961786,  9979281,  9979780,  9989160,\n",
       "        9989501,  9996799, 10004376, 10004403, 10017207, 10021159,\n",
       "       10025647, 10030717, 10032253, 10043427, 10046262, 10047639,\n",
       "       10065539, 10066932, 10077080, 10080747, 10082639, 10090349,\n",
       "       10102605, 10102808, 10103527, 10110038, 10115182, 10120181,\n",
       "       10130478, 10132205, 10133742, 10138932, 10150664, 10152782,\n",
       "       10156664, 10171558, 10177440, 10189927, 10192915, 10194603,\n",
       "       10197318, 10207524, 10216623, 10228361, 10233063, 10240037,\n",
       "       10241818, 10247350, 10247711, 10249119, 10256287, 10264794,\n",
       "       10264868, 10266537, 10271746, 10274345, 10277844, 10280832,\n",
       "       10281711, 10290880, 10292948, 10297704, 10301640, 10302535,\n",
       "       10316773, 10317187, 10325582, 10328654, 10338207, 10342097,\n",
       "       10346551, 10353718, 10361910, 10368916, 10405297, 10406502,\n",
       "       10407817, 10408733, 10409140, 10409653, 10415353, 10418717,\n",
       "       10432211, 10437433, 10440596, 10442834, 10443790, 10454259,\n",
       "       10458248, 10462881, 10464133, 10468495, 10472255, 10474470,\n",
       "       10476945, 10485433, 10487033, 10493205, 10496284, 10514551,\n",
       "       10519377, 10519839, 10527754, 10530306, 10537780, 10553618,\n",
       "       10555329, 10563341, 10563666, 10567556, 10588019, 10598422,\n",
       "       10608374, 10609703, 10613857, 10629259, 10629851, 10637122,\n",
       "       10644029, 10647190, 10650425, 10667735, 10673213, 10679645,\n",
       "       10684643, 10721844, 10731141, 10741932, 10756151, 10763603,\n",
       "       10778728, 10786002, 10801891, 10803489, 10811018], dtype=int32)"
      ]
     },
     "execution_count": 13,
     "metadata": {},
     "output_type": "execute_result"
    }
   ],
   "source": [
    "hdu['id']"
   ]
  },
  {
   "cell_type": "code",
   "execution_count": null,
   "metadata": {},
   "outputs": [],
   "source": []
  }
 ],
 "metadata": {
  "kernelspec": {
   "display_name": "Python (mangle_env)",
   "language": "python",
   "name": "mangle_env"
  },
  "language_info": {
   "codemirror_mode": {
    "name": "ipython",
    "version": 2
   },
   "file_extension": ".py",
   "mimetype": "text/x-python",
   "name": "python",
   "nbconvert_exporter": "python",
   "pygments_lexer": "ipython2",
   "version": "2.7.14"
  }
 },
 "nbformat": 4,
 "nbformat_minor": 2
}
