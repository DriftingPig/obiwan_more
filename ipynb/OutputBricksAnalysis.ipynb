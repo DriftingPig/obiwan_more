{
 "cells": [
  {
   "cell_type": "code",
   "execution_count": 4,
   "metadata": {},
   "outputs": [],
   "source": [
    "random_fn = '/global/cscratch1/sd/huikong/obiwan_Aug/repos_for_docker/obiwan_code/py/obiwan/more/random_subset.fits'\n",
    "import astropy.io.fits as fits\n",
    "dat = fits.open(random_fn)[1].data"
   ]
  },
  {
   "cell_type": "code",
   "execution_count": 7,
   "metadata": {},
   "outputs": [
    {
     "name": "stdout",
     "output_type": "stream",
     "text": [
      "Populating the interactive namespace from numpy and matplotlib\n"
     ]
    },
    {
     "data": {
      "text/plain": [
       "[<matplotlib.lines.Line2D at 0x2abe044e5cd0>]"
      ]
     },
     "execution_count": 7,
     "metadata": {},
     "output_type": "execute_result"
    },
    {
     "data": {
      "image/png": "[encoded data removed]",
      "text/plain": [
       "<Figure size 432x288 with 1 Axes>"
      ]
     },
     "metadata": {},
     "output_type": "display_data"
    }
   ],
   "source": [
    "%pylab inline\n",
    "import matplotlib.pyplot as plt\n",
    "plt.plot(dat['ra'],dat['dec'],'r,')"
   ]
  },
  {
   "cell_type": "code",
   "execution_count": 8,
   "metadata": {},
   "outputs": [
    {
     "data": {
      "text/plain": [
       "ColDefs(\n",
       "    name = 'dr5_ang_index'; format = 'K'\n",
       "    name = 'dr5_ang_dis'; format = 'D'\n",
       "    name = 'sim_ang_index'; format = 'K'\n",
       "    name = 'sim_ang_dis'; format = 'D'\n",
       "    name = 'release'; format = 'I'\n",
       "    name = 'brickid'; format = 'J'\n",
       "    name = 'brickname'; format = '8A'\n",
       "    name = 'objid'; format = 'J'\n",
       "    name = 'brick_primary'; format = 'L'\n",
       "    name = 'type'; format = '4A'\n",
       "    name = 'ra'; format = 'D'\n",
       "    name = 'dec'; format = 'D'\n",
       "    name = 'ra_ivar'; format = 'E'\n",
       "    name = 'dec_ivar'; format = 'E'\n",
       "    name = 'bx'; format = 'E'\n",
       "    name = 'by'; format = 'E'\n",
       "    name = 'dchisq'; format = '5E'\n",
       "    name = 'ebv'; format = 'E'\n",
       "    name = 'mjd_min'; format = 'D'\n",
       "    name = 'mjd_max'; format = 'D'\n",
       "    name = 'flux_u'; format = 'E'\n",
       "    name = 'flux_g'; format = 'E'\n",
       "    name = 'flux_r'; format = 'E'\n",
       "    name = 'flux_i'; format = 'E'\n",
       "    name = 'flux_z'; format = 'E'\n",
       "    name = 'flux_Y'; format = 'E'\n",
       "    name = 'flux_ivar_u'; format = 'E'\n",
       "    name = 'flux_ivar_g'; format = 'E'\n",
       "    name = 'flux_ivar_r'; format = 'E'\n",
       "    name = 'flux_ivar_i'; format = 'E'\n",
       "    name = 'flux_ivar_z'; format = 'E'\n",
       "    name = 'flux_ivar_Y'; format = 'E'\n",
       "    name = 'apflux_u'; format = '8E'\n",
       "    name = 'apflux_g'; format = '8E'\n",
       "    name = 'apflux_r'; format = '8E'\n",
       "    name = 'apflux_i'; format = '8E'\n",
       "    name = 'apflux_z'; format = '8E'\n",
       "    name = 'apflux_Y'; format = '8E'\n",
       "    name = 'apflux_resid_u'; format = '8E'\n",
       "    name = 'apflux_resid_g'; format = '8E'\n",
       "    name = 'apflux_resid_r'; format = '8E'\n",
       "    name = 'apflux_resid_i'; format = '8E'\n",
       "    name = 'apflux_resid_z'; format = '8E'\n",
       "    name = 'apflux_resid_Y'; format = '8E'\n",
       "    name = 'apflux_ivar_u'; format = '8E'\n",
       "    name = 'apflux_ivar_g'; format = '8E'\n",
       "    name = 'apflux_ivar_r'; format = '8E'\n",
       "    name = 'apflux_ivar_i'; format = '8E'\n",
       "    name = 'apflux_ivar_z'; format = '8E'\n",
       "    name = 'apflux_ivar_Y'; format = '8E'\n",
       "    name = 'mw_transmission_u'; format = 'E'\n",
       "    name = 'mw_transmission_g'; format = 'E'\n",
       "    name = 'mw_transmission_r'; format = 'E'\n",
       "    name = 'mw_transmission_i'; format = 'E'\n",
       "    name = 'mw_transmission_z'; format = 'E'\n",
       "    name = 'mw_transmission_Y'; format = 'E'\n",
       "    name = 'nobs_u'; format = 'I'\n",
       "    name = 'nobs_g'; format = 'I'\n",
       "    name = 'nobs_r'; format = 'I'\n",
       "    name = 'nobs_i'; format = 'I'\n",
       "    name = 'nobs_z'; format = 'I'\n",
       "    name = 'nobs_Y'; format = 'I'\n",
       "    name = 'rchisq_u'; format = 'E'\n",
       "    name = 'rchisq_g'; format = 'E'\n",
       "    name = 'rchisq_r'; format = 'E'\n",
       "    name = 'rchisq_i'; format = 'E'\n",
       "    name = 'rchisq_z'; format = 'E'\n",
       "    name = 'rchisq_Y'; format = 'E'\n",
       "    name = 'fracflux_u'; format = 'E'\n",
       "    name = 'fracflux_g'; format = 'E'\n",
       "    name = 'fracflux_r'; format = 'E'\n",
       "    name = 'fracflux_i'; format = 'E'\n",
       "    name = 'fracflux_z'; format = 'E'\n",
       "    name = 'fracflux_Y'; format = 'E'\n",
       "    name = 'fracmasked_u'; format = 'E'\n",
       "    name = 'fracmasked_g'; format = 'E'\n",
       "    name = 'fracmasked_r'; format = 'E'\n",
       "    name = 'fracmasked_i'; format = 'E'\n",
       "    name = 'fracmasked_z'; format = 'E'\n",
       "    name = 'fracmasked_Y'; format = 'E'\n",
       "    name = 'fracin_u'; format = 'E'\n",
       "    name = 'fracin_g'; format = 'E'\n",
       "    name = 'fracin_r'; format = 'E'\n",
       "    name = 'fracin_i'; format = 'E'\n",
       "    name = 'fracin_z'; format = 'E'\n",
       "    name = 'fracin_Y'; format = 'E'\n",
       "    name = 'anymask_u'; format = 'I'\n",
       "    name = 'anymask_g'; format = 'I'\n",
       "    name = 'anymask_r'; format = 'I'\n",
       "    name = 'anymask_i'; format = 'I'\n",
       "    name = 'anymask_z'; format = 'I'\n",
       "    name = 'anymask_Y'; format = 'I'\n",
       "    name = 'allmask_u'; format = 'I'\n",
       "    name = 'allmask_g'; format = 'I'\n",
       "    name = 'allmask_r'; format = 'I'\n",
       "    name = 'allmask_i'; format = 'I'\n",
       "    name = 'allmask_z'; format = 'I'\n",
       "    name = 'allmask_Y'; format = 'I'\n",
       "    name = 'psfsize_u'; format = 'E'\n",
       "    name = 'psfsize_g'; format = 'E'\n",
       "    name = 'psfsize_r'; format = 'E'\n",
       "    name = 'psfsize_i'; format = 'E'\n",
       "    name = 'psfsize_z'; format = 'E'\n",
       "    name = 'psfsize_Y'; format = 'E'\n",
       "    name = 'psfdepth_u'; format = 'E'\n",
       "    name = 'psfdepth_g'; format = 'E'\n",
       "    name = 'psfdepth_r'; format = 'E'\n",
       "    name = 'psfdepth_i'; format = 'E'\n",
       "    name = 'psfdepth_z'; format = 'E'\n",
       "    name = 'psfdepth_Y'; format = 'E'\n",
       "    name = 'galdepth_u'; format = 'E'\n",
       "    name = 'galdepth_g'; format = 'E'\n",
       "    name = 'galdepth_r'; format = 'E'\n",
       "    name = 'galdepth_i'; format = 'E'\n",
       "    name = 'galdepth_z'; format = 'E'\n",
       "    name = 'galdepth_Y'; format = 'E'\n",
       "    name = 'fracdev'; format = 'E'\n",
       "    name = 'fracdev_ivar'; format = 'E'\n",
       "    name = 'shapeexp_r'; format = 'E'\n",
       "    name = 'shapeexp_r_ivar'; format = 'E'\n",
       "    name = 'shapeexp_e1'; format = 'E'\n",
       "    name = 'shapeexp_e1_ivar'; format = 'E'\n",
       "    name = 'shapeexp_e2'; format = 'E'\n",
       "    name = 'shapeexp_e2_ivar'; format = 'E'\n",
       "    name = 'shapedev_r'; format = 'E'\n",
       "    name = 'shapedev_r_ivar'; format = 'E'\n",
       "    name = 'shapedev_e1'; format = 'E'\n",
       "    name = 'shapedev_e1_ivar'; format = 'E'\n",
       "    name = 'shapedev_e2'; format = 'E'\n",
       "    name = 'shapedev_e2_ivar'; format = 'E'\n",
       ")"
      ]
     },
     "execution_count": 8,
     "metadata": {},
     "output_type": "execute_result"
    }
   ],
   "source": [
    "dat.columns"
   ]
  },
  {
   "cell_type": "code",
   "execution_count": null,
   "metadata": {},
   "outputs": [],
   "source": []
  }
 ],
 "metadata": {
  "kernelspec": {
   "display_name": "Python (mangle_env)",
   "language": "python",
   "name": "mangle_env"
  },
  "language_info": {
   "codemirror_mode": {
    "name": "ipython",
    "version": 2
   },
   "file_extension": ".py",
   "mimetype": "text/x-python",
   "name": "python",
   "nbconvert_exporter": "python",
   "pygments_lexer": "ipython2",
   "version": "2.7.14"
  }
 },
 "nbformat": 4,
 "nbformat_minor": 2
}
