{
 "cells": [
  {
   "cell_type": "code",
   "execution_count": 1,
   "metadata": {},
   "outputs": [],
   "source": [
    "#test the randoms made with anand's files\n",
    "#cut to different chunks as needed\n",
    "mask_dir  = '/global/cscratch1/sd/huikong/obiwan_Aug/repos_for_docker/obiwan_data/ipynb_data/'\n",
    "ipynb_data_dir = '/global/cscratch1/sd/huikong/obiwan_Aug/repos_for_docker/obiwan_out/eboss_data/'"
   ]
  },
  {
   "cell_type": "markdown",
   "metadata": {},
   "source": [
    "# Footprint"
   ]
  },
  {
   "cell_type": "code",
   "execution_count": 5,
   "metadata": {},
   "outputs": [
    {
     "name": "stdout",
     "output_type": "stream",
     "text": [
      "Populating the interactive namespace from numpy and matplotlib\n"
     ]
    },
    {
     "data": {
      "text/plain": [
       "Text(0,0.5,'dec')"
      ]
     },
     "execution_count": 5,
     "metadata": {},
     "output_type": "execute_result"
    },
    {
     "data": {
      "image/png": "[encoded data removed]",
      "text/plain": [
       "<Figure size 432x288 with 1 Axes>"
      ]
     },
     "metadata": {},
     "output_type": "display_data"
    }
   ],
   "source": [
    "#data\n",
    "%pylab inline\n",
    "import matplotlib.pyplot as plt\n",
    "import astropy.io.fits as fits\n",
    "import subprocess\n",
    "real_obiwan_dat = fits.open(ipynb_data_dir+'eBOSS_ELG_full_ALL_v1_1.dat.fits')[1].data\n",
    "#chunk21\n",
    "plt.plot(real_obiwan_dat['ra'],real_obiwan_dat['dec'],'r,')\n",
    "plt.gca().set_xlabel('ra')\n",
    "plt.gca().set_ylabel('dec')"
   ]
  },
  {
   "cell_type": "code",
   "execution_count": 6,
   "metadata": {},
   "outputs": [
    {
     "data": {
      "text/plain": [
       "[<matplotlib.lines.Line2D at 0x2b3d5afe7e90>]"
      ]
     },
     "execution_count": 6,
     "metadata": {},
     "output_type": "execute_result"
    },
    {
     "data": {
      "image/png": "[encoded data removed]",
      "text/plain": [
       "<Figure size 432x288 with 1 Axes>"
      ]
     },
     "metadata": {},
     "output_type": "display_data"
    }
   ],
   "source": [
    "#randoms\n",
    "obiwan_dat = fits.open(ipynb_data_dir+'eBOSS_ELG_full_ALL_v1_1.ran.fits')[1].data\n",
    "plt.plot(obiwan_dat['ra'],obiwan_dat['dec'],'r,')"
   ]
  },
  {
   "cell_type": "markdown",
   "metadata": {},
   "source": [
    "# Mask\n",
    "#### these masks need to be applied after legacypipe code"
   ]
  },
  {
   "cell_type": "code",
   "execution_count": 7,
   "metadata": {},
   "outputs": [],
   "source": [
    "#mask function defined to mask eboss ELGs:\n",
    "import pymangle\n",
    "def mask(inl,maskl,md='veto',upper = False):\n",
    "        '''\n",
    "        input: inl--data, mask--file names of the mask list\n",
    "        output: list of True/False for whether a point should be masked\n",
    "        '''\n",
    "        if upper:\n",
    "            RA = 'RA'\n",
    "            DEC = 'DEC'\n",
    "        else:\n",
    "            RA = 'ra'\n",
    "            DEC = 'dec'\n",
    "\n",
    "        if md == 'foot':\n",
    "                keep = np.zeros(inl.size,dtype='bool')  #object is outside of footprint unless it is found\n",
    "        if md == 'veto':\n",
    "                keep = np.ones(inl.size,dtype='bool')   #object is outside of veto mask unless it is found\n",
    "\n",
    "        for mask in maskl:\n",
    "                mng = pymangle.Mangle(mask)\n",
    "                polyid = mng.polyid(inl[RA],inl[DEC])\n",
    "                if md == 'foot':\n",
    "                        keep[polyid!=-1] = True #keep the object if a polyid is found\n",
    "                if md == 'veto':\n",
    "                        keep[polyid!=-1] = False #do not keep the object if a polyid is found   \n",
    "                print(mask+' done')\n",
    "        return keep\n",
    "    \n",
    "def init_eboss_mask():\n",
    "        '''\n",
    "        generate a list of fileanmes for vetomask and footprint mask\n",
    "        returns:\n",
    "        veto mask list, footprint mask list\n",
    "        '''\n",
    "        maskdir = mask_dir \n",
    "        veto_mask = []\n",
    "        veto_mask.append(maskdir+'bright_object_mask_rykoff_pix.ply')\n",
    "        veto_mask.append(maskdir+'tycho2mask-0Vmag10.pol')\n",
    "        veto_mask.append(maskdir+'tycho2mask-10Vmag11.pol')\n",
    "        veto_mask.append(maskdir+'tycho2mask-11Vmag115.pol')\n",
    "        veto_mask.append(maskdir+'ELG_centerpost.ply')\n",
    "        footprint_mask = []\n",
    "        footprint_mask.append(maskdir+'geometry-eboss21.ply')\n",
    "        footprint_mask.append(maskdir+'geometry-eboss22.ply')\n",
    "        return veto_mask,footprint_mask\n",
    "    \n",
    "def init_eboss_mask_chunk21():\n",
    "        '''\n",
    "        generate a list of fileanmes for vetomask and footprint mask\n",
    "        returns:\n",
    "        veto mask list, footprint mask list\n",
    "        '''\n",
    "        maskdir = mask_dir \n",
    "        veto_mask = []\n",
    "        veto_mask.append(maskdir+'bright_object_mask_rykoff_pix.ply')\n",
    "        veto_mask.append(maskdir+'tycho2mask-0Vmag10.pol')\n",
    "        veto_mask.append(maskdir+'tycho2mask-10Vmag11.pol')\n",
    "        veto_mask.append(maskdir+'tycho2mask-11Vmag115.pol')\n",
    "        veto_mask.append(maskdir+'ELG_centerpost.ply')\n",
    "        footprint_mask = []\n",
    "        footprint_mask.append(maskdir+'geometry-eboss21.ply')\n",
    "        return veto_mask,footprint_mask    \n",
    "\n",
    "def init_eboss_mask_chunk22():\n",
    "        '''\n",
    "        generate a list of fileanmes for vetomask and footprint mask\n",
    "        returns:\n",
    "        veto mask list, footprint mask list\n",
    "        '''\n",
    "        maskdir = mask_dir \n",
    "        veto_mask = []\n",
    "        veto_mask.append(maskdir+'bright_object_mask_rykoff_pix.ply')\n",
    "        veto_mask.append(maskdir+'tycho2mask-0Vmag10.pol')\n",
    "        veto_mask.append(maskdir+'tycho2mask-10Vmag11.pol')\n",
    "        veto_mask.append(maskdir+'tycho2mask-11Vmag115.pol')\n",
    "        veto_mask.append(maskdir+'ELG_centerpost.ply')\n",
    "        footprint_mask = []\n",
    "        footprint_mask.append(maskdir+'geometry-eboss22.ply')\n",
    "        return veto_mask,footprint_mask \n",
    "    \n",
    "veto_mask_chunk21,foot_mask_chunk21 = init_eboss_mask_chunk21()\n",
    "veto_mask_chunk22,foot_mask_chunk22 = init_eboss_mask_chunk22()"
   ]
  },
  {
   "cell_type": "code",
   "execution_count": 11,
   "metadata": {},
   "outputs": [
    {
     "name": "stdout",
     "output_type": "stream",
     "text": [
      "/global/cscratch1/sd/huikong/obiwan_Aug/repos_for_docker/obiwan_data/ipynb_data/bright_object_mask_rykoff_pix.ply done\n",
      "/global/cscratch1/sd/huikong/obiwan_Aug/repos_for_docker/obiwan_data/ipynb_data/tycho2mask-0Vmag10.pol done\n",
      "/global/cscratch1/sd/huikong/obiwan_Aug/repos_for_docker/obiwan_data/ipynb_data/tycho2mask-10Vmag11.pol done\n",
      "/global/cscratch1/sd/huikong/obiwan_Aug/repos_for_docker/obiwan_data/ipynb_data/tycho2mask-11Vmag115.pol done\n",
      "/global/cscratch1/sd/huikong/obiwan_Aug/repos_for_docker/obiwan_data/ipynb_data/ELG_centerpost.ply done\n",
      "/global/cscratch1/sd/huikong/obiwan_Aug/repos_for_docker/obiwan_data/ipynb_data/geometry-eboss21.ply done\n"
     ]
    }
   ],
   "source": [
    "#chunk21, random\n",
    "veto_list = mask(obiwan_dat,veto_mask_chunk21,md='veto')\n",
    "foot_list = mask(obiwan_dat,foot_mask_chunk21,md='foot')\n",
    "\n",
    "col_dat_vetol = fits.Column(name='veto_mask', format='B', array = veto_list)\n",
    "col_dat_footl = fits.Column(name='foot_mask', format='B', array = foot_list)\n",
    "col_dat_orig = fits.ColDefs(np.array(obiwan_dat))\n",
    "col_dat_mask = col_dat_orig.add_col(col_dat_vetol).add_col(col_dat_footl)\n",
    "dat_temp = fits.BinTableHDU.from_columns(col_dat_mask).writeto('./temp.fits',overwrite = True)\n",
    "dat_masked = fits.open('./temp.fits')[1].data\n",
    "subprocess.call([\"rm\",\"temp.fits\"])\n",
    "mask1 = dat_masked['veto_mask']\n",
    "mask2 = dat_masked['foot_mask']\n",
    "mask_sel = (mask1==True) & (mask2==True)\n",
    "dat_final_sim_chunk21 = np.array(dat_masked[mask_sel])\n",
    "\n",
    "#masks are small compared to the map scale"
   ]
  },
  {
   "cell_type": "code",
   "execution_count": 12,
   "metadata": {},
   "outputs": [
    {
     "data": {
      "text/plain": [
       "[<matplotlib.lines.Line2D at 0x2b3d5b436d10>]"
      ]
     },
     "execution_count": 12,
     "metadata": {},
     "output_type": "execute_result"
    },
    {
     "data": {
      "image/png": "[encoded data removed]",
      "text/plain": [
       "<Figure size 432x288 with 1 Axes>"
      ]
     },
     "metadata": {},
     "output_type": "display_data"
    }
   ],
   "source": [
    "plt.plot(dat_final_sim_chunk21['RA'],dat_final_sim_chunk21['DEC'],'r,')"
   ]
  },
  {
   "cell_type": "code",
   "execution_count": 20,
   "metadata": {},
   "outputs": [
    {
     "name": "stdout",
     "output_type": "stream",
     "text": [
      "/global/cscratch1/sd/huikong/obiwan_Aug/repos_for_docker/obiwan_data/ipynb_data/bright_object_mask_rykoff_pix.ply done\n",
      "/global/cscratch1/sd/huikong/obiwan_Aug/repos_for_docker/obiwan_data/ipynb_data/tycho2mask-0Vmag10.pol done\n",
      "/global/cscratch1/sd/huikong/obiwan_Aug/repos_for_docker/obiwan_data/ipynb_data/tycho2mask-10Vmag11.pol done\n",
      "/global/cscratch1/sd/huikong/obiwan_Aug/repos_for_docker/obiwan_data/ipynb_data/tycho2mask-11Vmag115.pol done\n",
      "/global/cscratch1/sd/huikong/obiwan_Aug/repos_for_docker/obiwan_data/ipynb_data/ELG_centerpost.ply done\n",
      "/global/cscratch1/sd/huikong/obiwan_Aug/repos_for_docker/obiwan_data/ipynb_data/geometry-eboss22.ply done\n"
     ]
    },
    {
     "data": {
      "text/plain": [
       "[<matplotlib.lines.Line2D at 0x2b3d5b626f10>]"
      ]
     },
     "execution_count": 20,
     "metadata": {},
     "output_type": "execute_result"
    },
    {
     "data": {
      "image/png": "[encoded data removed]",
      "text/plain": [
       "<Figure size 432x288 with 1 Axes>"
      ]
     },
     "metadata": {},
     "output_type": "display_data"
    }
   ],
   "source": [
    "#chunk22, random\n",
    "veto_list = mask(obiwan_dat,veto_mask_chunk22,md='veto')\n",
    "foot_list = mask(obiwan_dat,foot_mask_chunk22,md='foot')\n",
    "\n",
    "col_dat_vetol = fits.Column(name='veto_mask', format='B', array = veto_list)\n",
    "col_dat_footl = fits.Column(name='foot_mask', format='B', array = foot_list)\n",
    "col_dat_orig = fits.ColDefs(np.array(obiwan_dat))\n",
    "col_dat_mask = col_dat_orig.add_col(col_dat_vetol).add_col(col_dat_footl)\n",
    "dat_temp = fits.BinTableHDU.from_columns(col_dat_mask).writeto('./temp.fits',overwrite = True)\n",
    "dat_masked = fits.open('./temp.fits')[1].data\n",
    "subprocess.call([\"rm\",\"temp.fits\"])\n",
    "mask1 = dat_masked['veto_mask']\n",
    "mask2 = dat_masked['foot_mask']\n",
    "mask_sel = (mask1==True) & (mask2==True)\n",
    "dat_final_sim_chunk22 = np.array(dat_masked[mask_sel])\n",
    "\n",
    "#masks are small compared to the map scale\n",
    "plt.plot(dat_final_sim_chunk22['RA'],dat_final_sim_chunk22['DEC'],'r,')"
   ]
  },
  {
   "cell_type": "code",
   "execution_count": 15,
   "metadata": {},
   "outputs": [
    {
     "name": "stdout",
     "output_type": "stream",
     "text": [
      "/global/cscratch1/sd/huikong/obiwan_Aug/repos_for_docker/obiwan_data/ipynb_data/bright_object_mask_rykoff_pix.ply done\n",
      "/global/cscratch1/sd/huikong/obiwan_Aug/repos_for_docker/obiwan_data/ipynb_data/tycho2mask-0Vmag10.pol done\n",
      "/global/cscratch1/sd/huikong/obiwan_Aug/repos_for_docker/obiwan_data/ipynb_data/tycho2mask-10Vmag11.pol done\n",
      "/global/cscratch1/sd/huikong/obiwan_Aug/repos_for_docker/obiwan_data/ipynb_data/tycho2mask-11Vmag115.pol done\n",
      "/global/cscratch1/sd/huikong/obiwan_Aug/repos_for_docker/obiwan_data/ipynb_data/ELG_centerpost.ply done\n",
      "/global/cscratch1/sd/huikong/obiwan_Aug/repos_for_docker/obiwan_data/ipynb_data/geometry-eboss21.ply done\n"
     ]
    },
    {
     "data": {
      "text/plain": [
       "[<matplotlib.lines.Line2D at 0x2b3d5b4ce790>]"
      ]
     },
     "execution_count": 15,
     "metadata": {},
     "output_type": "execute_result"
    },
    {
     "data": {
      "image/png": "[encoded data removed]",
      "text/plain": [
       "<Figure size 432x288 with 1 Axes>"
      ]
     },
     "metadata": {},
     "output_type": "display_data"
    }
   ],
   "source": [
    "#data, chunk21\n",
    "veto_list = mask(real_obiwan_dat,veto_mask_chunk21,md='veto')\n",
    "foot_list = mask(real_obiwan_dat,foot_mask_chunk21,md='foot')\n",
    "\n",
    "col_dat_vetol = fits.Column(name='veto_mask', format='B', array = veto_list)\n",
    "col_dat_footl = fits.Column(name='foot_mask', format='B', array = foot_list)\n",
    "col_dat_orig = fits.ColDefs(np.array(real_obiwan_dat))\n",
    "col_dat_mask = col_dat_orig.add_col(col_dat_vetol).add_col(col_dat_footl)\n",
    "dat_temp = fits.BinTableHDU.from_columns(col_dat_mask).writeto('./temp.fits',overwrite = True)\n",
    "dat_masked = fits.open('./temp.fits')[1].data\n",
    "subprocess.call([\"rm\",\"temp.fits\"])\n",
    "mask1 = dat_masked['veto_mask']\n",
    "mask2 = dat_masked['foot_mask']\n",
    "mask_sel = (mask1==True) & (mask2==True)\n",
    "dat_final_obiwan_chunk21 = np.array(dat_masked[mask_sel])\n",
    "\n",
    "plt.plot(dat_final_obiwan_chunk21['RA'],dat_final_obiwan_chunk21['DEC'],'r,')"
   ]
  },
  {
   "cell_type": "code",
   "execution_count": 18,
   "metadata": {},
   "outputs": [
    {
     "name": "stdout",
     "output_type": "stream",
     "text": [
      "/global/cscratch1/sd/huikong/obiwan_Aug/repos_for_docker/obiwan_data/ipynb_data/bright_object_mask_rykoff_pix.ply done\n",
      "/global/cscratch1/sd/huikong/obiwan_Aug/repos_for_docker/obiwan_data/ipynb_data/tycho2mask-0Vmag10.pol done\n",
      "/global/cscratch1/sd/huikong/obiwan_Aug/repos_for_docker/obiwan_data/ipynb_data/tycho2mask-10Vmag11.pol done\n",
      "/global/cscratch1/sd/huikong/obiwan_Aug/repos_for_docker/obiwan_data/ipynb_data/tycho2mask-11Vmag115.pol done\n",
      "/global/cscratch1/sd/huikong/obiwan_Aug/repos_for_docker/obiwan_data/ipynb_data/ELG_centerpost.ply done\n",
      "/global/cscratch1/sd/huikong/obiwan_Aug/repos_for_docker/obiwan_data/ipynb_data/geometry-eboss22.ply done\n"
     ]
    },
    {
     "data": {
      "text/plain": [
       "[<matplotlib.lines.Line2D at 0x2b3d5b5351d0>]"
      ]
     },
     "execution_count": 18,
     "metadata": {},
     "output_type": "execute_result"
    },
    {
     "data": {
      "image/png": "[encoded data removed]",
      "text/plain": [
       "<Figure size 432x288 with 1 Axes>"
      ]
     },
     "metadata": {},
     "output_type": "display_data"
    }
   ],
   "source": [
    "#data, chunk22\n",
    "veto_list = mask(real_obiwan_dat,veto_mask_chunk22,md='veto')\n",
    "foot_list = mask(real_obiwan_dat,foot_mask_chunk22,md='foot')\n",
    "\n",
    "col_dat_vetol = fits.Column(name='veto_mask', format='B', array = veto_list)\n",
    "col_dat_footl = fits.Column(name='foot_mask', format='B', array = foot_list)\n",
    "col_dat_orig = fits.ColDefs(np.array(real_obiwan_dat))\n",
    "col_dat_mask = col_dat_orig.add_col(col_dat_vetol).add_col(col_dat_footl)\n",
    "dat_temp = fits.BinTableHDU.from_columns(col_dat_mask).writeto('./temp.fits',overwrite = True)\n",
    "dat_masked = fits.open('./temp.fits')[1].data\n",
    "subprocess.call([\"rm\",\"temp.fits\"])\n",
    "mask1 = dat_masked['veto_mask']\n",
    "mask2 = dat_masked['foot_mask']\n",
    "mask_sel = (mask1==True) & (mask2==True)\n",
    "dat_final_obiwan_chunk22 = np.array(dat_masked[mask_sel])\n",
    "\n",
    "plt.plot(dat_final_obiwan_chunk22['RA'],dat_final_obiwan_chunk22['DEC'],'r,')"
   ]
  },
  {
   "cell_type": "code",
   "execution_count": 21,
   "metadata": {},
   "outputs": [],
   "source": [
    "random_chunk21 = fits.ColDefs(dat_final_sim_chunk21)\n",
    "t1 = fits.BinTableHDU.from_columns(random_chunk21)\n",
    "t1.writeto(ipynb_data_dir+'eBOSS_ELG_full_ALL_v1_1.ran_chunk21.fits',overwrite=True)\n",
    "\n",
    "random_chunk22 = fits.ColDefs(dat_final_sim_chunk22)\n",
    "t2 = fits.BinTableHDU.from_columns(random_chunk22)\n",
    "t2.writeto(ipynb_data_dir+'eBOSS_ELG_full_ALL_v1_1.ran_chunk22.fits',overwrite=True)\n",
    "\n",
    "\n",
    "data_chunk21 = fits.ColDefs(dat_final_obiwan_chunk21)\n",
    "t3 = fits.BinTableHDU.from_columns(data_chunk21)\n",
    "t3.writeto(ipynb_data_dir+'eBOSS_ELG_full_ALL_v1_1.dat_chunk21.fits',overwrite=True)\n",
    "\n",
    "data_chunk22 = fits.ColDefs(dat_final_obiwan_chunk22)\n",
    "t4 = fits.BinTableHDU.from_columns(data_chunk22)\n",
    "t4.writeto(ipynb_data_dir+'eBOSS_ELG_full_ALL_v1_1.dat_chunk22.fits',overwrite=True)"
   ]
  },
  {
   "cell_type": "markdown",
   "metadata": {},
   "source": [
    "## TODO:some systematics test:\n"
   ]
  },
  {
   "cell_type": "code",
   "execution_count": 4,
   "metadata": {},
   "outputs": [],
   "source": [
    "#survey ccds:\n",
    "ccds_dir = '/global/cscratch1/sd/huikong/obiwan_Aug/repos_for_docker/obiwan_data/ebosselg_ccds/'\n",
    "fits_file = 'survey-ccds-ebossDR3.fits'\n",
    "import astropy.io.fits as fits\n",
    "dat = fits.open(ccds_dir+fits_file)[1].data"
   ]
  },
  {
   "cell_type": "code",
   "execution_count": 5,
   "metadata": {},
   "outputs": [
    {
     "name": "stdout",
     "output_type": "stream",
     "text": [
      "ebosselg_ccds.dr3.log\t\tebosselg_ccds.dr5-eboss2.log\n",
      "ebosselg_ccds.dr3.tar\t\tebosselg_ccds.dr5-eboss2.tar\n",
      "ebosselg_ccds.dr3_utah_ngc.log\tsurvey-ccds-dr3.fits.gz\n",
      "ebosselg_ccds.dr3_utah_ngc.tar\tsurvey-ccds-dr3_utah_ngc.fits.gz\n",
      "ebosselg_ccds.dr3_utah_sgc.log\tsurvey-ccds-dr3_utah_sgc.fits\n",
      "ebosselg_ccds.dr3_utah_sgc.tar\tsurvey-ccds-dr5-eboss.fits.gz\n",
      "ebosselg_ccds.dr5-eboss.log\tsurvey-ccds-dr5-eboss2.fits.gz\n",
      "ebosselg_ccds.dr5-eboss.tar\tsurvey-ccds-ebossDR3.fits\n"
     ]
    }
   ],
   "source": [
    "!ls /global/cscratch1/sd/huikong/obiwan_Aug/repos_for_docker/obiwan_data/ebosselg_ccds/"
   ]
  },
  {
   "cell_type": "code",
   "execution_count": 6,
   "metadata": {},
   "outputs": [
    {
     "name": "stdout",
     "output_type": "stream",
     "text": [
      "ebosselg_ccds.dr3.log\t\tebosselg_ccds.dr5-eboss2.log\n",
      "ebosselg_ccds.dr3.tar\t\tebosselg_ccds.dr5-eboss2.tar\n",
      "ebosselg_ccds.dr3_utah_ngc.log\tsurvey-ccds-dr3.fits.gz\n",
      "ebosselg_ccds.dr3_utah_ngc.tar\tsurvey-ccds-dr3_utah_ngc.fits.gz\n",
      "ebosselg_ccds.dr3_utah_sgc.log\tsurvey-ccds-dr3_utah_sgc.fits\n",
      "ebosselg_ccds.dr3_utah_sgc.tar\tsurvey-ccds-dr5-eboss.fits.gz\n",
      "ebosselg_ccds.dr5-eboss.log\tsurvey-ccds-dr5-eboss2.fits.gz\n",
      "ebosselg_ccds.dr5-eboss.tar\tsurvey-ccds-ebossDR3.fits\n"
     ]
    }
   ],
   "source": [
    "!ls /global/cscratch1/sd/huikong/obiwan_Aug/repos_for_docker/obiwan_data/ebosselg_ccds/"
   ]
  },
  {
   "cell_type": "code",
   "execution_count": 7,
   "metadata": {},
   "outputs": [
    {
     "name": "stdout",
     "output_type": "stream",
     "text": [
      "Populating the interactive namespace from numpy and matplotlib\n",
      "390035\n"
     ]
    },
    {
     "data": {
      "image/png": "[encoded data removed]",
      "text/plain": [
       "<Figure size 432x288 with 1 Axes>"
      ]
     },
     "metadata": {},
     "output_type": "display_data"
    }
   ],
   "source": [
    "%pylab inline\n",
    "import matplotlib.pyplot as plt\n",
    "plt.plot(dat['ra'],dat['dec'],'r,')\n",
    "#plt.gca().set_xlim((0,50))\n",
    "plt.gca().set_ylim((-5,5))\n",
    "print(len(dat))"
   ]
  },
  {
   "cell_type": "code",
   "execution_count": 8,
   "metadata": {},
   "outputs": [
    {
     "name": "stdout",
     "output_type": "stream",
     "text": [
      "390035\n",
      "226008\n"
     ]
    },
    {
     "data": {
      "image/png": "[encoded data removed]",
      "text/plain": [
       "<Figure size 432x288 with 1 Axes>"
      ]
     },
     "metadata": {},
     "output_type": "display_data"
    }
   ],
   "source": [
    "import astropy.io.fits as fits\n",
    "fn1 = 'survey-ccds-dr3_utah_ngc.fits.gz'\n",
    "fn2 = 'survey-ccds-dr3_utah_sgc.fits'\n",
    "fn3 = 'survey-ccds-dr3.fits.gz'\n",
    "fn4 = 'survey-ccds-ebossDR3.fits'\n",
    "dat1 = fits.open(ccds_dir+fn1)[1].data\n",
    "dat2 = fits.open(ccds_dir+fn2)[1].data\n",
    "dat3 = fits.open(ccds_dir+fn3)[1].data\n",
    "dat4 = fits.open(ccds_dir+fn4)[1].data\n",
    "plt.plot(dat3['ra'],dat3['dec'],'r,')\n",
    "plt.plot(dat2['ra'],dat2['dec'],'r,')\n",
    "plt.plot(dat1['ra'],dat1['dec'],'r,')\n",
    "#plt.gca().set_xlim((0,50))\n",
    "plt.gca().set_ylim((-5,5))\n",
    "print(len(dat4))\n",
    "print(len(dat1)+len(dat2)+len(dat3))"
   ]
  },
  {
   "cell_type": "code",
   "execution_count": 9,
   "metadata": {},
   "outputs": [
    {
     "data": {
      "text/plain": [
       "(-5, 5)"
      ]
     },
     "execution_count": 9,
     "metadata": {},
     "output_type": "execute_result"
    },
    {
     "data": {
      "image/png": "[encoded data removed]",
      "text/plain": [
       "<Figure size 432x288 with 1 Axes>"
      ]
     },
     "metadata": {},
     "output_type": "display_data"
    }
   ],
   "source": [
    "plt.plot(dat4['ra'],dat4['dec'],'r,')\n",
    "plt.gca().set_ylim((-5,5))"
   ]
  },
  {
   "cell_type": "markdown",
   "metadata": {},
   "source": [
    "# ccd list"
   ]
  },
  {
   "cell_type": "code",
   "execution_count": 35,
   "metadata": {},
   "outputs": [
    {
     "data": {
      "text/plain": [
       "ColDefs(\n",
       "    name = 'object'; format = '35A'\n",
       "    name = 'expnum'; format = 'J'\n",
       "    name = 'exptime'; format = 'E'\n",
       "    name = 'filter'; format = '1A'\n",
       "    name = 'seeing'; format = 'E'\n",
       "    name = 'date_obs'; format = '10A'\n",
       "    name = 'mjd_obs'; format = 'D'\n",
       "    name = 'ut'; format = '15A'\n",
       "    name = 'ha'; format = '13A'\n",
       "    name = 'airmass'; format = 'E'\n",
       "    name = 'propid'; format = '10A'\n",
       "    name = 'zpt'; format = 'E'\n",
       "    name = 'avsky'; format = 'E'\n",
       "    name = 'arawgain'; format = 'E'\n",
       "    name = 'fwhm'; format = 'E'\n",
       "    name = 'crpix1'; format = 'E'\n",
       "    name = 'crpix2'; format = 'E'\n",
       "    name = 'crval1'; format = 'D'\n",
       "    name = 'crval2'; format = 'D'\n",
       "    name = 'cd1_1'; format = 'E'\n",
       "    name = 'cd1_2'; format = 'E'\n",
       "    name = 'cd2_1'; format = 'E'\n",
       "    name = 'cd2_2'; format = 'E'\n",
       "    name = 'ccdnum'; format = 'I'\n",
       "    name = 'ccdname'; format = '3A'\n",
       "    name = 'ccdzpt'; format = 'E'\n",
       "    name = 'ccdzpta'; format = 'E'\n",
       "    name = 'ccdzptb'; format = 'E'\n",
       "    name = 'ccdphoff'; format = 'E'\n",
       "    name = 'ccdphrms'; format = 'E'\n",
       "    name = 'ccdskyrms'; format = 'E'\n",
       "    name = 'ccdskymag'; format = 'E'\n",
       "    name = 'ccdskycounts'; format = 'E'\n",
       "    name = 'ccdraoff'; format = 'E'\n",
       "    name = 'ccddecoff'; format = 'E'\n",
       "    name = 'ccdtransp'; format = 'E'\n",
       "    name = 'ccdnstar'; format = 'I'\n",
       "    name = 'ccdnmatch'; format = 'I'\n",
       "    name = 'ccdnmatcha'; format = 'I'\n",
       "    name = 'ccdnmatchb'; format = 'I'\n",
       "    name = 'ccdmdncol'; format = 'E'\n",
       "    name = 'temp'; format = 'E'\n",
       "    name = 'camera'; format = '5A'\n",
       "    name = 'expid'; format = '12A'\n",
       "    name = 'image_hdu'; format = 'I'\n",
       "    name = 'image_filename'; format = '56A'\n",
       "    name = 'width'; format = 'I'\n",
       "    name = 'height'; format = 'I'\n",
       "    name = 'ra_bore'; format = 'D'\n",
       "    name = 'dec_bore'; format = 'D'\n",
       "    name = 'ra'; format = 'D'\n",
       "    name = 'dec'; format = 'D'\n",
       "    name = 'ccd_x0'; format = 'I'\n",
       "    name = 'ccd_x1'; format = 'I'\n",
       "    name = 'ccd_y0'; format = 'I'\n",
       "    name = 'ccd_y1'; format = 'I'\n",
       "    name = 'brick_x0'; format = 'I'\n",
       "    name = 'brick_x1'; format = 'I'\n",
       "    name = 'brick_y0'; format = 'I'\n",
       "    name = 'brick_y1'; format = 'I'\n",
       "    name = 'sig1'; format = 'D'\n",
       "    name = 'psfnorm'; format = 'E'\n",
       "    name = 'galnorm'; format = 'D'\n",
       "    name = 'plver'; format = '6A'\n",
       "    name = 'skyver'; format = '17A'\n",
       "    name = 'wcsver'; format = '1A'\n",
       "    name = 'psfver'; format = '12A'\n",
       "    name = 'skyplver'; format = '6A'\n",
       "    name = 'wcsplver'; format = '6A'\n",
       "    name = 'psfplver'; format = '6A'\n",
       ")"
      ]
     },
     "execution_count": 35,
     "metadata": {},
     "output_type": "execute_result"
    }
   ],
   "source": [
    "dat1.columns"
   ]
  },
  {
   "cell_type": "code",
   "execution_count": 34,
   "metadata": {},
   "outputs": [
    {
     "data": {
      "text/plain": [
       "ColDefs(\n",
       "    name = 'object'; format = '37A'\n",
       "    name = 'expnum'; format = 'J'\n",
       "    name = 'exptime'; format = 'E'\n",
       "    name = 'filter'; format = '1A'\n",
       "    name = 'seeing'; format = 'E'\n",
       "    name = 'date_obs'; format = '10A'\n",
       "    name = 'mjd_obs'; format = 'D'\n",
       "    name = 'ut'; format = '15A'\n",
       "    name = 'ha'; format = '13A'\n",
       "    name = 'airmass'; format = 'E'\n",
       "    name = 'propid'; format = '10A'\n",
       "    name = 'zpt'; format = 'E'\n",
       "    name = 'avsky'; format = 'E'\n",
       "    name = 'arawgain'; format = 'E'\n",
       "    name = 'fwhm'; format = 'E'\n",
       "    name = 'crpix1'; format = 'E'\n",
       "    name = 'crpix2'; format = 'E'\n",
       "    name = 'crval1'; format = 'D'\n",
       "    name = 'crval2'; format = 'D'\n",
       "    name = 'cd1_1'; format = 'E'\n",
       "    name = 'cd1_2'; format = 'E'\n",
       "    name = 'cd2_1'; format = 'E'\n",
       "    name = 'cd2_2'; format = 'E'\n",
       "    name = 'ccdnum'; format = 'I'\n",
       "    name = 'ccdname'; format = '3A'\n",
       "    name = 'ccdzpt'; format = 'E'\n",
       "    name = 'ccdzpta'; format = 'E'\n",
       "    name = 'ccdzptb'; format = 'E'\n",
       "    name = 'ccdphoff'; format = 'E'\n",
       "    name = 'ccdphrms'; format = 'E'\n",
       "    name = 'ccdskyrms'; format = 'E'\n",
       "    name = 'ccdskymag'; format = 'E'\n",
       "    name = 'ccdskycounts'; format = 'E'\n",
       "    name = 'ccdraoff'; format = 'E'\n",
       "    name = 'ccddecoff'; format = 'E'\n",
       "    name = 'ccdtransp'; format = 'E'\n",
       "    name = 'ccdnstar'; format = 'I'\n",
       "    name = 'ccdnmatch'; format = 'I'\n",
       "    name = 'ccdnmatcha'; format = 'I'\n",
       "    name = 'ccdnmatchb'; format = 'I'\n",
       "    name = 'ccdmdncol'; format = 'E'\n",
       "    name = 'temp'; format = 'E'\n",
       "    name = 'camera'; format = '5A'\n",
       "    name = 'expid'; format = '12A'\n",
       "    name = 'image_hdu'; format = 'I'\n",
       "    name = 'image_filename'; format = '61A'\n",
       "    name = 'width'; format = 'I'\n",
       "    name = 'height'; format = 'I'\n",
       "    name = 'ra_bore'; format = 'D'\n",
       "    name = 'dec_bore'; format = 'D'\n",
       "    name = 'ra'; format = 'D'\n",
       "    name = 'dec'; format = 'D'\n",
       "    name = 'ccd_x0'; format = 'I'\n",
       "    name = 'ccd_x1'; format = 'I'\n",
       "    name = 'ccd_y0'; format = 'I'\n",
       "    name = 'ccd_y1'; format = 'I'\n",
       "    name = 'brick_x0'; format = 'I'\n",
       "    name = 'brick_x1'; format = 'I'\n",
       "    name = 'brick_y0'; format = 'I'\n",
       "    name = 'brick_y1'; format = 'I'\n",
       "    name = 'sig1'; format = 'D'\n",
       "    name = 'psfnorm'; format = 'E'\n",
       "    name = 'galnorm'; format = 'D'\n",
       "    name = 'plver'; format = '4A'\n",
       "    name = 'skyver'; format = '17A'\n",
       "    name = 'wcsver'; format = '1A'\n",
       "    name = 'psfver'; format = '12A'\n",
       "    name = 'skyplver'; format = '4A'\n",
       "    name = 'wcsplver'; format = '4A'\n",
       "    name = 'psfplver'; format = '4A'\n",
       ")"
      ]
     },
     "execution_count": 34,
     "metadata": {},
     "output_type": "execute_result"
    }
   ],
   "source": [
    "dat3.columns"
   ]
  },
  {
   "cell_type": "code",
   "execution_count": 10,
   "metadata": {},
   "outputs": [],
   "source": [
    "'''\n",
    "dat1:\n",
    "expnum: name = 'expnum'; format = 'J'\n",
    "ccdname: name = 'ccdname'; format = '3A'\n",
    "ra: name = 'ra'; format = 'D'\n",
    "dec: name = 'dec'; format = 'D'\n",
    "\n",
    "dat2:\n",
    "expnum: name = 'expnum'; format = 'K'\n",
    "ccdname: name = 'ccdname'; format = '4A'\n",
    "ra: name = 'ra'; format = 'D'\n",
    "dec: name = 'dec'; format = 'D'\n",
    "\n",
    "dat3:\n",
    "name = 'expnum'; format = 'J'\n",
    "name = 'ccdname'; format = '3A'\n",
    "ra: name = 'ra'; format = 'D'\n",
    "dec: name = 'dec'; format = 'D'\n",
    "'''\n",
    "a1 = fits.Column(name='ccdname', array=dat1['ccdname'], format='3A')\n",
    "a2 = fits.Column(name='ccdname', array=dat2['ccdname'], format='3A')\n",
    "a3 = fits.Column(name='ccdname', array=dat3['ccdname'], format='3A')\n",
    "a4 = fits.Column(name='ccdname', array=dat4['ccdname'], format='3A')\n",
    "\n",
    "b1 = fits.Column(name='ra', array=dat1['ra'], format='D')\n",
    "b2 = fits.Column(name='ra', array=dat2['ra'], format='D')\n",
    "b3 = fits.Column(name='ra', array=dat3['ra'], format='D')\n",
    "b4 = fits.Column(name='ra', array=dat4['ra'], format='D')\n",
    "\n",
    "c1 = fits.Column(name='expnum', array=dat1['expnum'], format='J')\n",
    "c2 = fits.Column(name='expnum', array=dat2['expnum'], format='J')\n",
    "c3 = fits.Column(name='expnum', array=dat3['expnum'], format='J')\n",
    "c4 = fits.Column(name='expnum', array=dat4['expnum'], format='J')\n",
    "\n",
    "d1 = fits.Column(name='dec', array=dat1['dec'], format='D')\n",
    "d2 = fits.Column(name='dec', array=dat2['dec'], format='D')\n",
    "d3 = fits.Column(name='dec', array=dat3['dec'], format='D')\n",
    "d4 = fits.Column(name='dec', array=dat4['dec'], format='D')\n",
    "\n",
    "t1 = fits.BinTableHDU.from_columns([a1, b1, c1, d1]).data\n",
    "t2 = fits.BinTableHDU.from_columns([a2, b2, c2, d2]).data\n",
    "t3 = fits.BinTableHDU.from_columns([a3, b3, c3, d3]).data\n",
    "t4 = fits.BinTableHDU.from_columns([a4, b4, c4, d4]).data"
   ]
  },
  {
   "cell_type": "code",
   "execution_count": 11,
   "metadata": {},
   "outputs": [],
   "source": [
    "import numpy as np\n",
    "t1 = np.hstack((t1,t2))\n",
    "t1 = np.hstack((t1,t3))"
   ]
  },
  {
   "cell_type": "code",
   "execution_count": 12,
   "metadata": {},
   "outputs": [],
   "source": [
    "# removing duplicates\n",
    "import numpy as np\n",
    "uniqid      = np.array([str(e)+'-'+n for e,n in zip(t1['expnum'],t1['ccdname'])])\n",
    "keep        = np.unique(uniqid,return_index=True)[1]\n",
    "t1 = t1[keep]"
   ]
  },
  {
   "cell_type": "code",
   "execution_count": 13,
   "metadata": {},
   "outputs": [
    {
     "data": {
      "text/plain": [
       "213633"
      ]
     },
     "execution_count": 13,
     "metadata": {},
     "output_type": "execute_result"
    }
   ],
   "source": [
    "len(t1)"
   ]
  },
  {
   "cell_type": "code",
   "execution_count": 19,
   "metadata": {},
   "outputs": [
    {
     "data": {
      "text/plain": [
       "(-5, 5)"
      ]
     },
     "execution_count": 19,
     "metadata": {},
     "output_type": "execute_result"
    },
    {
     "data": {
      "image/png": "[encoded data removed]",
      "text/plain": [
       "<Figure size 432x288 with 1 Axes>"
      ]
     },
     "metadata": {},
     "output_type": "display_data"
    }
   ],
   "source": [
    "plt.plot(t1['ra'],t1['dec'],'r,')\n",
    "plt.gca().set_ylim((-5,5))"
   ]
  },
  {
   "cell_type": "markdown",
   "metadata": {},
   "source": [
    "## Generate a new ccd list file with no duplicates\n",
    "I finally made a file called survey-ccds-dr3-hui.fits in:\n",
    "/global/cscratch1/sd/huikong/obiwan_Aug/repos_for_docker/obiwan_data/ebosselg_ccds/"
   ]
  },
  {
   "cell_type": "code",
   "execution_count": 14,
   "metadata": {},
   "outputs": [
    {
     "name": "stdout",
     "output_type": "stream",
     "text": [
      "pid\n"
     ]
    }
   ],
   "source": [
    "import astropy.io.fits as fits\n",
    "ccds_dir = '/global/cscratch1/sd/huikong/obiwan_Aug/repos_for_docker/obiwan_data/ebosselg_ccds/'\n",
    "fn1 = 'survey-ccds-dr3_utah_ngc.fits.gz'\n",
    "fn2 = 'survey-ccds-dr3_utah_sgc.fits'\n",
    "fn3 = 'survey-ccds-dr3.fits.gz'\n",
    "fn4 = 'survey-ccds-ebossDR3.fits'\n",
    "dat1 = fits.open(ccds_dir+fn1)[1].data\n",
    "dat2 = fits.open(ccds_dir+fn2)[1].data\n",
    "dat3 = fits.open(ccds_dir+fn3)[1].data\n",
    "dat4 = fits.open(ccds_dir+fn4)[1].data\n",
    "\n",
    "#dat2 data format is different from dat 1,3,4\n",
    "#column name pid does not exist, hope it's ok...\n",
    "for i in range(len(dat4.columns)):\n",
    "    name = dat4.columns[i].name\n",
    "    found = False\n",
    "    for j in range(len(dat2.columns)):\n",
    "        if dat2.columns[j].name == dat4.columns[i].name:\n",
    "            found = True\n",
    "            break\n",
    "    if found == False:\n",
    "        print name"
   ]
  },
  {
   "cell_type": "code",
   "execution_count": 19,
   "metadata": {},
   "outputs": [],
   "source": [
    "for i in range(len(dat1.columns)):\n",
    "    name = dat1.columns[i].name\n",
    "    found = False\n",
    "    for j in range(len(dat2.columns)):\n",
    "        if dat2.columns[j].name == dat1.columns[i].name:\n",
    "            found = True\n",
    "            break\n",
    "    if found == False:\n",
    "        print name\n",
    "#column names of dat1,2,3 are the same, format are different, I will \n",
    "#make format become the same to stack them"
   ]
  },
  {
   "cell_type": "code",
   "execution_count": 18,
   "metadata": {},
   "outputs": [],
   "source": [
    "#dat1 has different format with dat2,dat3\n",
    "for i in range(len(dat1.columns)):\n",
    "    name = dat1.columns[i].name\n",
    "    index = None\n",
    "    for j in range(len(dat3.columns)):\n",
    "        if dat3.columns[j].name == dat1.columns[i].name:\n",
    "            index = j\n",
    "            break\n",
    "    #if dat3.columns[j].format != dat1.columns[i].format:\n",
    "        #print(dat1.columns[i].name,dat1.columns[i].format,dat3.columns[j].format,dat3.columns[j].name)"
   ]
  },
  {
   "cell_type": "code",
   "execution_count": 33,
   "metadata": {},
   "outputs": [],
   "source": [
    "##ABANDONED!!\n",
    "#creat new fits file for dat2, dat3 with the same format as dat1\n",
    "cols1 = []\n",
    "cols2 = []\n",
    "cols3 = []\n",
    "#match 2 with 1\n",
    "for i in range(len(dat1.columns)):\n",
    "    name = dat1.columns[i].name\n",
    "    index = None\n",
    "    for j in range(len(dat2.columns)):\n",
    "        if dat2.columns[j].name == dat1.columns[i].name:\n",
    "            index = j\n",
    "            break\n",
    "    d_name = dat2.columns[index].name\n",
    "    d_format = dat1.columns[i].format\n",
    "    d_format2 = dat2.columns[index].format\n",
    "    d_array = dat2[d_name]\n",
    "    #print(d_name, d_format,d_format2)\n",
    "    if d_name == 'ccdnum':\n",
    "        d_array = [int(i) for i in d_array]\n",
    "    col = fits.Column(name=d_name, array=d_array, format=d_format)\n",
    "    cols2.append(col)\n",
    "ccd_2 = fits.BinTableHDU.from_columns(cols2)"
   ]
  },
  {
   "cell_type": "code",
   "execution_count": 41,
   "metadata": {},
   "outputs": [
    {
     "data": {
      "text/plain": [
       "[<matplotlib.lines.Line2D at 0x2b91f38befd0>]"
      ]
     },
     "execution_count": 41,
     "metadata": {},
     "output_type": "execute_result"
    },
    {
     "data": {
      "image/png": "[encoded data removed]",
      "text/plain": [
       "<Figure size 432x288 with 1 Axes>"
      ]
     },
     "metadata": {},
     "output_type": "display_data"
    }
   ],
   "source": [
    "#make sure these two matches\n",
    "plt.plot(ccd_2.data['ra'],ccd_2.data['dec'],'r,')\n",
    "plt.plot(dat2['ra'],dat2['dec'],'b,')"
   ]
  },
  {
   "cell_type": "code",
   "execution_count": 45,
   "metadata": {},
   "outputs": [],
   "source": [
    "##ABANDONED!!\n",
    "#match 3 with 1\n",
    "cols3 = []\n",
    "for i in range(len(dat1.columns)):\n",
    "    name = dat1.columns[i].name\n",
    "    index = None\n",
    "    for j in range(len(dat3.columns)):\n",
    "        if dat3.columns[j].name == dat1.columns[i].name:\n",
    "            index = j\n",
    "            break\n",
    "    d_name = dat3.columns[index].name\n",
    "    d_format = dat1.columns[i].format\n",
    "    d_format2 = dat3.columns[index].format\n",
    "    d_array = dat3[d_name]\n",
    "    #print(d_name, d_format,d_format2)\n",
    "    #if d_name == 'ccdnum':\n",
    "        #d_array = [int(i) for i in d_array]\n",
    "    col = fits.Column(name=d_name, array=d_array, format=d_format)\n",
    "    cols3.append(col)"
   ]
  },
  {
   "cell_type": "code",
   "execution_count": 109,
   "metadata": {},
   "outputs": [],
   "source": [
    "#We need to set the string length to be longest\n",
    "\n",
    "cols1 = []\n",
    "cols2 = []\n",
    "cols3 = []\n",
    "#match 2 with 1\n",
    "for i in range(len(dat1.columns)):\n",
    "    name = dat1.columns[i].name\n",
    "    index = None\n",
    "    for j in range(len(dat2.columns)):\n",
    "        if dat2.columns[j].name == dat1.columns[i].name:\n",
    "            index = j\n",
    "            break\n",
    "    index3 = None\n",
    "    for k in range(len(dat3.columns)):\n",
    "        if dat3.columns[k].name == dat1.columns[i].name:\n",
    "            index3 = k\n",
    "            break\n",
    "    d_name = dat1.columns[i].name\n",
    "    d_format1 = dat1.columns[i].format\n",
    "    d_format2 = dat2.columns[index].format\n",
    "    d_format3 = dat3.columns[index3].format\n",
    "    d_array1 = dat1[d_name]\n",
    "    d_array2 = dat2[d_name]\n",
    "    d_array3 = dat3[d_name]\n",
    "    \n",
    "    if 'A' in d_format1:\n",
    "        num1 = int(d_format1.replace('A',''))\n",
    "        num2 = int(d_format2.replace('A',''))\n",
    "        num3 = int(d_format3.replace('A',''))\n",
    "        num = max(num1,num2,num3)\n",
    "        d_format = str(num)+'A'\n",
    "    else:\n",
    "        d_format = d_format1\n",
    "    if d_name == 'ccdnum':\n",
    "        d_array2 = [int(i) for i in d_array2]\n",
    "        d_array3 = [int(i) for i in d_array3]\n",
    "    #print(d_name, d_format1, d_format2, d_format3,d_format)\n",
    "    col1 = fits.Column(name=d_name, array=d_array1, format=d_format)\n",
    "    cols1.append(col1)\n",
    "    col2 = fits.Column(name=d_name, array=d_array2, format=d_format)\n",
    "    cols2.append(col2)\n",
    "    col3 = fits.Column(name=d_name, array=d_array3, format=d_format)\n",
    "    cols3.append(col3)"
   ]
  },
  {
   "cell_type": "code",
   "execution_count": 110,
   "metadata": {},
   "outputs": [],
   "source": [
    "ccd_1 = fits.BinTableHDU.from_columns(cols1)\n",
    "ccd_2 = fits.BinTableHDU.from_columns(cols2)\n",
    "ccd_3 = fits.BinTableHDU.from_columns(cols3)"
   ]
  },
  {
   "cell_type": "code",
   "execution_count": 111,
   "metadata": {},
   "outputs": [],
   "source": [
    "import numpy as np\n",
    "t = np.hstack((ccd_1.data,ccd_2.data))\n",
    "t = np.hstack((t,ccd_3.data))"
   ]
  },
  {
   "cell_type": "code",
   "execution_count": 112,
   "metadata": {},
   "outputs": [],
   "source": [
    "# removing duplicates\n",
    "uniqid      = np.array([str(e)+'-'+n for e,n in zip(t['expnum'],t['ccdname'])])\n",
    "keep        = np.unique(uniqid,return_index=True)[1]\n",
    "t = t[keep]"
   ]
  },
  {
   "cell_type": "code",
   "execution_count": 113,
   "metadata": {},
   "outputs": [
    {
     "data": {
      "text/plain": [
       "213633"
      ]
     },
     "execution_count": 113,
     "metadata": {},
     "output_type": "execute_result"
    }
   ],
   "source": [
    "len(t)"
   ]
  },
  {
   "cell_type": "code",
   "execution_count": 114,
   "metadata": {},
   "outputs": [],
   "source": [
    "tot_col = fits.ColDefs(t)\n",
    "tot_t = fits.BinTableHDU.from_columns(tot_col)\n",
    "tot_t.writeto(ccds_dir+'survey-ccds-dr3-hui.fits',overwrite = True)"
   ]
  },
  {
   "cell_type": "code",
   "execution_count": 68,
   "metadata": {},
   "outputs": [
    {
     "name": "stdout",
     "output_type": "stream",
     "text": [
      "ebosselg_ccds.dr3.log\t\tebosselg_ccds.dr5-eboss2.tar\n",
      "ebosselg_ccds.dr3.tar\t\tsurvey-ccds-dr3-hui.fits\n",
      "ebosselg_ccds.dr3_utah_ngc.log\tsurvey-ccds-dr3.fits.gz\n",
      "ebosselg_ccds.dr3_utah_ngc.tar\tsurvey-ccds-dr3_utah_ngc.fits.gz\n",
      "ebosselg_ccds.dr3_utah_sgc.log\tsurvey-ccds-dr3_utah_sgc.fits\n",
      "ebosselg_ccds.dr3_utah_sgc.tar\tsurvey-ccds-dr5-eboss.fits.gz\n",
      "ebosselg_ccds.dr5-eboss.log\tsurvey-ccds-dr5-eboss2.fits.gz\n",
      "ebosselg_ccds.dr5-eboss.tar\tsurvey-ccds-ebossDR3.fits\n",
      "ebosselg_ccds.dr5-eboss2.log\n"
     ]
    }
   ],
   "source": [
    "!ls /global/cscratch1/sd/huikong/obiwan_Aug/repos_for_docker/obiwan_data/ebosselg_ccds/"
   ]
  },
  {
   "cell_type": "code",
   "execution_count": 115,
   "metadata": {},
   "outputs": [
    {
     "data": {
      "text/plain": [
       "[<matplotlib.lines.Line2D at 0x2b9239f75150>]"
      ]
     },
     "execution_count": 115,
     "metadata": {},
     "output_type": "execute_result"
    },
    {
     "data": {
      "image/png": "[encoded data removed]",
      "text/plain": [
       "<Figure size 432x288 with 1 Axes>"
      ]
     },
     "metadata": {},
     "output_type": "display_data"
    }
   ],
   "source": [
    "dat = fits.open('/global/cscratch1/sd/huikong/obiwan_Aug/repos_for_docker/obiwan_data/ebosselg_ccds/survey-ccds-dr3-hui.fits')[1].data\n",
    "plt.plot(dat['ra'],dat['dec'],'r,')\n",
    "#dat1.columns"
   ]
  },
  {
   "cell_type": "code",
   "execution_count": 96,
   "metadata": {},
   "outputs": [
    {
     "data": {
      "text/plain": [
       "6"
      ]
     },
     "execution_count": 96,
     "metadata": {},
     "output_type": "execute_result"
    }
   ],
   "source": []
  },
  {
   "cell_type": "markdown",
   "metadata": {},
   "source": [
    "## ra,dec distribution for varied ccds"
   ]
  },
  {
   "cell_type": "code",
   "execution_count": 152,
   "metadata": {},
   "outputs": [],
   "source": [
    "t1_tup = tuple(zip(t1['expnum'],t1['ccdname']))\n",
    "t4_tup = tuple(zip(t4['expnum'],t4['ccdname']))"
   ]
  },
  {
   "cell_type": "code",
   "execution_count": 159,
   "metadata": {},
   "outputs": [
    {
     "name": "stdout",
     "output_type": "stream",
     "text": [
      "180903\n",
      "176402\n",
      "7723\n"
     ]
    }
   ],
   "source": [
    "print(len(set(t4_tup)-set(t1_tup)))\n",
    "print(len(t4)-len(t1))\n",
    "print(len(set(t1_tup)-set(t4_tup)))"
   ]
  },
  {
   "cell_type": "code",
   "execution_count": 179,
   "metadata": {},
   "outputs": [],
   "source": [
    "t4_extra = set(t4_tup)-set(t1_tup)\n",
    "t1_extra = set(t1_tup)-set(t4_tup)\n",
    "t4_extra = np.array(list(t4_extra)).transpose()\n",
    "t1_extra = np.array(list(t1_extra)).transpose()"
   ]
  },
  {
   "cell_type": "code",
   "execution_count": 213,
   "metadata": {},
   "outputs": [],
   "source": [
    "dat4_mask = np.zeros(len(dat4),dtype = bool)\n",
    "t4_expnum = t4_extra[0].astype(int32)"
   ]
  },
  {
   "cell_type": "code",
   "execution_count": 214,
   "metadata": {},
   "outputs": [],
   "source": [
    "for i in range(len(dat4)):\n",
    "    if dat4['expnum'][i] in t4_expnum and dat4['ccdname'][i]\\\n",
    "    in t4_extra[1]:\n",
    "        t4_mask[i] = True"
   ]
  },
  {
   "cell_type": "code",
   "execution_count": 225,
   "metadata": {},
   "outputs": [
    {
     "name": "stdout",
     "output_type": "stream",
     "text": [
      "215575\n"
     ]
    }
   ],
   "source": [
    "count = 0\n",
    "for i in range(len(t4_mask)):\n",
    "    if t4_mask[i] == True:\n",
    "        count+=1\n",
    "print(count)"
   ]
  },
  {
   "cell_type": "code",
   "execution_count": 228,
   "metadata": {},
   "outputs": [],
   "source": [
    "dat4_extra = dat4[t4_mask]"
   ]
  },
  {
   "cell_type": "code",
   "execution_count": 236,
   "metadata": {},
   "outputs": [
    {
     "data": {
      "text/plain": [
       "(315, 360)"
      ]
     },
     "execution_count": 236,
     "metadata": {},
     "output_type": "execute_result"
    },
    {
     "data": {
      "image/png": "[encoded data removed]",
      "text/plain": [
       "<Figure size 432x288 with 1 Axes>"
      ]
     },
     "metadata": {},
     "output_type": "display_data"
    }
   ],
   "source": [
    "plt.plot(dat4_extra['ra'],dat4_extra['dec'],'r,')\n",
    "plt.gca().set_ylim((-5,5))\n",
    "plt.gca().set_xlim((315,360))\n",
    "'''\n",
    "this plot shows that the ccd difference bascially covers all footprint, \n",
    "which means I need to rerun the whole thing again...\n",
    "'''"
   ]
  },
  {
   "cell_type": "markdown",
   "metadata": {},
   "source": [
    "## This is brick 0356m040, this section shows the difference between Kaylan's ccd list and Anand's ccd list"
   ]
  },
  {
   "cell_type": "code",
   "execution_count": 11,
   "metadata": {},
   "outputs": [],
   "source": [
    "'''\n",
    "brick: 0356m040\n",
    "ra: 35.39855640110362 -- 35.95489748394289\n",
    "dec: -4.205247750254634 -- -3.807373257875968\n",
    "2579 ccds in Kaylan's ccd list\n",
    "70 ccds in Anand's ccd list\n",
    "'''\n",
    "RA = dat4['ra']\n",
    "DEC = dat4['dec']\n",
    "SEL = (RA>=35.39855640110362)&(RA<=35.95489748394289)&(DEC>=-4.205247750254634)&(DEC<=-3.807373257875968)"
   ]
  },
  {
   "cell_type": "code",
   "execution_count": 12,
   "metadata": {},
   "outputs": [
    {
     "data": {
      "text/plain": [
       "2579"
      ]
     },
     "execution_count": 12,
     "metadata": {},
     "output_type": "execute_result"
    }
   ],
   "source": [
    "len(dat4[SEL])"
   ]
  },
  {
   "cell_type": "code",
   "execution_count": 20,
   "metadata": {},
   "outputs": [
    {
     "name": "stdout",
     "output_type": "stream",
     "text": [
      "70\n"
     ]
    }
   ],
   "source": [
    "RA=t1['ra']\n",
    "DEC=t1['dec']\n",
    "SEL = (RA>=35.39855640110362)&(RA<=35.95489748394289)&(DEC>=-4.205247750254634)&(DEC<=-3.807373257875968)\n",
    "print(len(t1[SEL]))"
   ]
  },
  {
   "cell_type": "code",
   "execution_count": 45,
   "metadata": {},
   "outputs": [
    {
     "name": "stdout",
     "output_type": "stream",
     "text": [
      "/global/u2/h/huikong/obiwan_codes/obiwan_Aug/obiwan_code/py/obiwan/more/ipynb\n"
     ]
    }
   ],
   "source": [
    "!pwd"
   ]
  },
  {
   "cell_type": "code",
   "execution_count": null,
   "metadata": {},
   "outputs": [],
   "source": []
  }
 ],
 "metadata": {
  "kernelspec": {
   "display_name": "Python (mangle_env)",
   "language": "python",
   "name": "mangle_env"
  },
  "language_info": {
   "codemirror_mode": {
    "name": "ipython",
    "version": 2
   },
   "file_extension": ".py",
   "mimetype": "text/x-python",
   "name": "python",
   "nbconvert_exporter": "python",
   "pygments_lexer": "ipython2",
   "version": "2.7.14"
  }
 },
 "nbformat": 4,
 "nbformat_minor": 2
}
