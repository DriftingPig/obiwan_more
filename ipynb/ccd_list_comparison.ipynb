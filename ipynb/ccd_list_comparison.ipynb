{
 "cells": [
  {
   "cell_type": "code",
   "execution_count": 34,
   "metadata": {},
   "outputs": [
    {
     "name": "stdout",
     "output_type": "stream",
     "text": [
      "Populating the interactive namespace from numpy and matplotlib\n"
     ]
    }
   ],
   "source": [
    "%pylab inline\n",
    "mask_dir  = '/global/cscratch1/sd/huikong/obiwan_Aug/repos_for_docker/obiwan_data/ipynb_data/'\n",
    "ipynb_data_dir = '/global/cscratch1/sd/huikong/obiwan_Aug/repos_for_docker/obiwan_out/subset/'\n",
    "import matplotlib.pyplot as plt\n",
    "import astropy.io.fits as fits\n",
    "import subprocess\n",
    "import numpy as np\n",
    "#output from anand's ccd list\n",
    "anand_obiwan_dat = fits.open(ipynb_data_dir+'random_subset.fits')[1].data\n",
    "#output from kaylan's ccd list\n",
    "kaylan_obiwan_dat = fits.open(ipynb_data_dir+'random_subset_old.fits')[1].data\n",
    "#brick info\n",
    "brick_dir = '/global/cscratch1/sd/huikong/obiwan_Aug/repos_for_docker/obiwan_data/legacysurveydir_dr3/'\n",
    "brick_info = fits.open(brick_dir+'survey-ccds-ebossDR3.fits.gz')"
   ]
  },
  {
   "cell_type": "code",
   "execution_count": 35,
   "metadata": {},
   "outputs": [],
   "source": [
    "brickstat_dir = '/global/cscratch1/sd/huikong/obiwan_Aug/repos_for_docker/obiwan_code/py/obiwan/more/obiwan_run/brickstat/'\n",
    "#finished bricks from kaylan's ccd list\n",
    "kaylan_bricks = np.loadtxt(brickstat_dir+'ProcessedBricks.txt',dtype = np.str)\n",
    "#finished bricks from anand's ccd list\n",
    "anand_bricks = np.loadtxt(brickstat_dir+'elg_new_ccd_list/FinishedBricks.txt',dtype=np.str)"
   ]
  },
  {
   "cell_type": "code",
   "execution_count": 36,
   "metadata": {},
   "outputs": [],
   "source": [
    "overlap_bricks = set.intersection(set(kaylan_bricks), set(anand_bricks))"
   ]
  },
  {
   "cell_type": "code",
   "execution_count": 37,
   "metadata": {},
   "outputs": [],
   "source": [
    "overlap_bricks = list(overlap_bricks)"
   ]
  },
  {
   "cell_type": "code",
   "execution_count": 38,
   "metadata": {},
   "outputs": [
    {
     "data": {
      "text/plain": [
       "'0168m027'"
      ]
     },
     "execution_count": 38,
     "metadata": {},
     "output_type": "execute_result"
    }
   ],
   "source": [
    "overlap_bricks[0]"
   ]
  },
  {
   "cell_type": "code",
   "execution_count": 45,
   "metadata": {},
   "outputs": [
    {
     "data": {
      "text/plain": [
       "[<matplotlib.lines.Line2D at 0x2b33c85ca390>]"
      ]
     },
     "execution_count": 45,
     "metadata": {},
     "output_type": "execute_result"
    },
    {
     "data": {
      "image/png": "[encoded data removed]",
      "text/plain": [
       "<matplotlib.figure.Figure at 0x2b33c7fb32e8>"
      ]
     },
     "metadata": {},
     "output_type": "display_data"
    }
   ],
   "source": [
    "brickname = '0168m027'\n",
    "sel1 = anand_obiwan_dat['brickname']\n",
    "sel2 = kaylan_obiwan_dat['brickname']\n",
    "SEL1 = (sel1==brickname)\n",
    "SEL2 = (sel2==brickname)\n",
    "dat_anand = anand_obiwan_dat[SEL1]\n",
    "dat_kaylan = kaylan_obiwan_dat[SEL2]\n",
    "plt.plot(dat_anand['ra'],dat_anand['dec'],'r.')\n",
    "plt.plot(dat_kaylan['ra'],dat_kaylan['dec'],'b.')\n",
    "\n",
    "log_dir = '/global/cscratch1/sd/huikong/obiwan_Aug/repos_for_docker/obiwan_out/elg_new_ccd_list/logs/'+str(brickname[:3])+'/rs0/log.'+str(brickname)\n",
    "tractor_fn = '/global/cscratch1/sd/huikong/obiwan_Aug/repos_for_docker/obiwan_out/elg_new_ccd_list/tractor/'+str(brickname[:3])+'/'+str(brickname)+'/more_rs0/'+'tractor-'+str(brickname)+'.fits'    \n",
    "dat_raw_anand = fits.open(tractor_fn)[1].data\n",
    "plt.plot(dat_raw_anand['ra'],dat_raw_anand['dec'],'g,')"
   ]
  },
  {
   "cell_type": "code",
   "execution_count": 48,
   "metadata": {},
   "outputs": [],
   "source": [
    "import numpy as n\n",
    "def select_ELG( path_2_tractor_file , startid = None, nobj = None):\n",
    "    \"\"\"\n",
    "    Given the path to a tractor catalog, it returns two sub catalogs with the eBOSS ELG selections applied (NGC and SGC).\n",
    "    \"\"\"\n",
    "    # opens the tractor file\n",
    "    if startid is not None:\n",
    "        assert(nobj is not None)\n",
    "        hdu=fits.open(path_2_tractor_file)\n",
    "        dat=hdu[1].data[startid:startid+nobj]\n",
    "        hdu.close()\n",
    "    else:\n",
    "            hdu=fits.open(path_2_tractor_file)\n",
    "            dat=hdu[1].data\n",
    "            hdu.close()\n",
    "    # the color color selection\n",
    "    g     = 22.5 - 2.5 * n.log10(dat['flux_g'] / dat['mw_transmission_g'])\n",
    "    r_mag = 22.5 - 2.5 * n.log10(dat['flux_r'] / dat['mw_transmission_r'])\n",
    "    z_mag = 22.5 - 2.5 * n.log10(dat['flux_z'] / dat['mw_transmission_z'])\n",
    "    gr = g - r_mag\n",
    "    rz = r_mag - z_mag\n",
    "    color_sgc = (g>21.825)&(g<22.825)&(-0.068*rz+0.457<gr)&(gr< 0.112*rz+0.773) &(0.218*gr+0.571<rz)&(rz<-0.555*gr+1.901)\n",
    "    color_ngc = (g>21.825)&(g<22.9)  &(-0.068*rz+0.457<gr)&(gr< 0.112*rz+0.773) &(0.637*gr+0.399<rz)&(rz<-0.555*gr+1.901)\n",
    "    # the junk rejection criterion\n",
    "    noJunk = (dat['brick_primary']) & (dat['anymask_g']==0) & (dat['anymask_r']==0) & (dat['anymask_z']==0) #& (dat['TYCHO2INBLOB']==False)\n",
    "    # the low depth region rejection\n",
    "    value_g=dat['psfdepth_g']\n",
    "    value_r=dat['psfdepth_r']\n",
    "    value_z=dat['psfdepth_z']\n",
    "    gL = 62.79716079\n",
    "    rL = 30.05661087\n",
    "    zL_ngc = 11.0\n",
    "    zL_sgc = 12.75\n",
    "    depth_selection_ngc = (value_g > gL) & (value_r > rL) & (value_z > zL_ngc)\n",
    "    depth_selection_sgc = (value_g > gL) & (value_r > rL) & (value_z > zL_sgc)\n",
    "    # final selection boolean array :\n",
    "    selection_sgc =(noJunk)&(color_sgc)&(depth_selection_sgc)\n",
    "    selection_ngc =(noJunk)&(color_ngc)&(depth_selection_ngc)\n",
    "    # returns the catalogs of ELGs\n",
    "    if len(selection_sgc.nonzero()[0])>0 or  len(selection_ngc.nonzero()[0])>0 :\n",
    "        flag = True\n",
    "        return flag, dat[selection_ngc], dat[selection_sgc]\n",
    "    else :\n",
    "        flag = False\n",
    "        return flag, dat[selection_ngc], dat[selection_sgc]"
   ]
  },
  {
   "cell_type": "code",
   "execution_count": 49,
   "metadata": {},
   "outputs": [
    {
     "name": "stderr",
     "output_type": "stream",
     "text": [
      "/usr/common/software/python/3.6-anaconda-4.4/lib/python3.6/site-packages/ipykernel/__main__.py:17: RuntimeWarning: invalid value encountered in log10\n",
      "/usr/common/software/python/3.6-anaconda-4.4/lib/python3.6/site-packages/ipykernel/__main__.py:18: RuntimeWarning: divide by zero encountered in log10\n",
      "/usr/common/software/python/3.6-anaconda-4.4/lib/python3.6/site-packages/ipykernel/__main__.py:18: RuntimeWarning: invalid value encountered in log10\n",
      "/usr/common/software/python/3.6-anaconda-4.4/lib/python3.6/site-packages/ipykernel/__main__.py:19: RuntimeWarning: invalid value encountered in log10\n",
      "/usr/common/software/python/3.6-anaconda-4.4/lib/python3.6/site-packages/ipykernel/__main__.py:22: RuntimeWarning: invalid value encountered in greater\n",
      "/usr/common/software/python/3.6-anaconda-4.4/lib/python3.6/site-packages/ipykernel/__main__.py:22: RuntimeWarning: invalid value encountered in less\n",
      "/usr/common/software/python/3.6-anaconda-4.4/lib/python3.6/site-packages/ipykernel/__main__.py:23: RuntimeWarning: invalid value encountered in greater\n",
      "/usr/common/software/python/3.6-anaconda-4.4/lib/python3.6/site-packages/ipykernel/__main__.py:23: RuntimeWarning: invalid value encountered in less\n"
     ]
    }
   ],
   "source": [
    "flag, ngc, sgc = select_ELG(tractor_fn)"
   ]
  },
  {
   "cell_type": "code",
   "execution_count": 52,
   "metadata": {},
   "outputs": [
    {
     "data": {
      "text/plain": [
       "[<matplotlib.lines.Line2D at 0x2b33c8ef5128>]"
      ]
     },
     "execution_count": 52,
     "metadata": {},
     "output_type": "execute_result"
    },
    {
     "data": {
      "image/png": "[encoded data removed]",
      "text/plain": [
       "<matplotlib.figure.Figure at 0x2b33c8ef50b8>"
      ]
     },
     "metadata": {},
     "output_type": "display_data"
    }
   ],
   "source": [
    "plt.plot(sgc['ra'],sgc['dec'],'g.')\n",
    "plt.plot(dat_kaylan['ra'],dat_kaylan['dec'],'b+')"
   ]
  },
  {
   "cell_type": "code",
   "execution_count": 32,
   "metadata": {},
   "outputs": [
    {
     "data": {
      "text/plain": [
       "(-2.6268785512727129,\n",
       " -2.8565646314838955,\n",
       " 16.997899656459413,\n",
       " 16.751006322245345)"
      ]
     },
     "execution_count": 32,
     "metadata": {},
     "output_type": "execute_result"
    }
   ],
   "source": [
    "max(dat_kaylan['dec']),min(dat_kaylan['dec']),max(dat_kaylan['ra']),min(dat_kaylan['ra'])"
   ]
  },
  {
   "cell_type": "code",
   "execution_count": 27,
   "metadata": {},
   "outputs": [
    {
     "data": {
      "text/plain": [
       "-2.741575515335144"
      ]
     },
     "execution_count": 27,
     "metadata": {},
     "output_type": "execute_result"
    }
   ],
   "source": [
    "max(dat_anand['dec'])"
   ]
  },
  {
   "cell_type": "code",
   "execution_count": 29,
   "metadata": {},
   "outputs": [],
   "source": [
    "WorkDir = '/global/cscratch1/sd/huikong/obiwan_Aug/repos_for_docker/obiwan_code/py/obiwan/more/obiwan_run/brickstat/elg_new_ccd_list/'\n",
    "fn_ccd_num = 'BrickccdNum.txt'\n",
    "#fn_run_time = \n",
    "import matplotlib.pyplot as plt\n",
    "import numpy as np\n",
    "ccd_num = np.loadtxt(WorkDir+fn_ccd_num,dtype=np.str).transpose()\n",
    "#run_time = np.loadtxt(WorkDir+fn_run_time,dtype=np.str).transpose()\n",
    "\n",
    "#and a plot of 3d distribution of ccds\n",
    "def brickname2radec(brickname):\n",
    "    ra_f = int(brickname[0:3])\n",
    "    ra_b = int(brickname[3])\n",
    "    ra = ra_f+0.1*ra_b\n",
    "    dec_f = int(brickname[5:7])\n",
    "    dec_b = int(brickname[7])\n",
    "    dec = dec_f + dec_b*0.1\n",
    "    if brickname[4] == 'm':\n",
    "        dec = dec*(-1)\n",
    "    return ra,dec"
   ]
  },
  {
   "cell_type": "code",
   "execution_count": 30,
   "metadata": {},
   "outputs": [],
   "source": [
    "radecs = list(map(brickname2radec,ccd_num[0]))"
   ]
  },
  {
   "cell_type": "code",
   "execution_count": 33,
   "metadata": {},
   "outputs": [
    {
     "data": {
      "text/plain": [
       "(-2.8565646314838955, -2.626878551272713)"
      ]
     },
     "execution_count": 33,
     "metadata": {},
     "output_type": "execute_result"
    },
    {
     "data": {
      "image/png": "[encoded data removed]",
      "text/plain": [
       "<matplotlib.figure.Figure at 0x2b33c8841898>"
      ]
     },
     "metadata": {},
     "output_type": "display_data"
    }
   ],
   "source": [
    "ra_dec = np.array(radecs).transpose()\n",
    "ra = ra_dec[0]\n",
    "dec = ra_dec[1]\n",
    "plt.scatter(ra,dec,c=num_hist)\n",
    "plt.gca().set_xlim((16.75,17))\n",
    "plt.gca().set_ylim((-2.8565646314838955, -2.6268785512727129))"
   ]
  },
  {
   "cell_type": "code",
   "execution_count": null,
   "metadata": {},
   "outputs": [],
   "source": []
  }
 ],
 "metadata": {
  "kernelspec": {
   "display_name": "cfastpm",
   "language": "python",
   "name": "mykernel"
  },
  "language_info": {
   "codemirror_mode": {
    "name": "ipython",
    "version": 3
   },
   "file_extension": ".py",
   "mimetype": "text/x-python",
   "name": "python",
   "nbconvert_exporter": "python",
   "pygments_lexer": "ipython3",
   "version": "3.6.1"
  }
 },
 "nbformat": 4,
 "nbformat_minor": 2
}
